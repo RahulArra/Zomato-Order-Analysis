{
  "nbformat": 4,
  "nbformat_minor": 0,
  "metadata": {
    "colab": {
      "provenance": [],
      "authorship_tag": "ABX9TyM9O0aUjOByMu/eOhguzLPr",
      "include_colab_link": true
    },
    "kernelspec": {
      "name": "python3",
      "display_name": "Python 3"
    },
    "language_info": {
      "name": "python"
    }
  },
  "cells": [
    {
      "cell_type": "markdown",
      "metadata": {
        "id": "view-in-github",
        "colab_type": "text"
      },
      "source": [
        "<a href=\"https://colab.research.google.com/github/RahulArra/Zomato-Order-Analysis/blob/main/DAV_ASSIGN_202.ipynb\" target=\"_parent\"><img src=\"https://colab.research.google.com/assets/colab-badge.svg\" alt=\"Open In Colab\"/></a>"
      ]
    },
    {
      "cell_type": "code",
      "execution_count": null,
      "metadata": {
        "id": "bGebQ8Z6v6nS"
      },
      "outputs": [],
      "source": [
        "import pandas as pd\n",
        "import numpy as np\n",
        "import matplotlib.pyplot as plt\n"
      ]
    },
    {
      "cell_type": "code",
      "source": [
        "from google.colab import files\n",
        "uploaded = files.upload()\n"
      ],
      "metadata": {
        "colab": {
          "base_uri": "https://localhost:8080/",
          "height": 73
        },
        "id": "9E60CarqyLlB",
        "outputId": "ceb778fd-265f-46a2-ad93-da2d9b62240b"
      },
      "execution_count": null,
      "outputs": [
        {
          "output_type": "display_data",
          "data": {
            "text/plain": [
              "<IPython.core.display.HTML object>"
            ],
            "text/html": [
              "\n",
              "     <input type=\"file\" id=\"files-7f76d942-f0cb-4b20-addf-6e0f6f1e7d7b\" name=\"files[]\" multiple disabled\n",
              "        style=\"border:none\" />\n",
              "     <output id=\"result-7f76d942-f0cb-4b20-addf-6e0f6f1e7d7b\">\n",
              "      Upload widget is only available when the cell has been executed in the\n",
              "      current browser session. Please rerun this cell to enable.\n",
              "      </output>\n",
              "      <script>// Copyright 2017 Google LLC\n",
              "//\n",
              "// Licensed under the Apache License, Version 2.0 (the \"License\");\n",
              "// you may not use this file except in compliance with the License.\n",
              "// You may obtain a copy of the License at\n",
              "//\n",
              "//      http://www.apache.org/licenses/LICENSE-2.0\n",
              "//\n",
              "// Unless required by applicable law or agreed to in writing, software\n",
              "// distributed under the License is distributed on an \"AS IS\" BASIS,\n",
              "// WITHOUT WARRANTIES OR CONDITIONS OF ANY KIND, either express or implied.\n",
              "// See the License for the specific language governing permissions and\n",
              "// limitations under the License.\n",
              "\n",
              "/**\n",
              " * @fileoverview Helpers for google.colab Python module.\n",
              " */\n",
              "(function(scope) {\n",
              "function span(text, styleAttributes = {}) {\n",
              "  const element = document.createElement('span');\n",
              "  element.textContent = text;\n",
              "  for (const key of Object.keys(styleAttributes)) {\n",
              "    element.style[key] = styleAttributes[key];\n",
              "  }\n",
              "  return element;\n",
              "}\n",
              "\n",
              "// Max number of bytes which will be uploaded at a time.\n",
              "const MAX_PAYLOAD_SIZE = 100 * 1024;\n",
              "\n",
              "function _uploadFiles(inputId, outputId) {\n",
              "  const steps = uploadFilesStep(inputId, outputId);\n",
              "  const outputElement = document.getElementById(outputId);\n",
              "  // Cache steps on the outputElement to make it available for the next call\n",
              "  // to uploadFilesContinue from Python.\n",
              "  outputElement.steps = steps;\n",
              "\n",
              "  return _uploadFilesContinue(outputId);\n",
              "}\n",
              "\n",
              "// This is roughly an async generator (not supported in the browser yet),\n",
              "// where there are multiple asynchronous steps and the Python side is going\n",
              "// to poll for completion of each step.\n",
              "// This uses a Promise to block the python side on completion of each step,\n",
              "// then passes the result of the previous step as the input to the next step.\n",
              "function _uploadFilesContinue(outputId) {\n",
              "  const outputElement = document.getElementById(outputId);\n",
              "  const steps = outputElement.steps;\n",
              "\n",
              "  const next = steps.next(outputElement.lastPromiseValue);\n",
              "  return Promise.resolve(next.value.promise).then((value) => {\n",
              "    // Cache the last promise value to make it available to the next\n",
              "    // step of the generator.\n",
              "    outputElement.lastPromiseValue = value;\n",
              "    return next.value.response;\n",
              "  });\n",
              "}\n",
              "\n",
              "/**\n",
              " * Generator function which is called between each async step of the upload\n",
              " * process.\n",
              " * @param {string} inputId Element ID of the input file picker element.\n",
              " * @param {string} outputId Element ID of the output display.\n",
              " * @return {!Iterable<!Object>} Iterable of next steps.\n",
              " */\n",
              "function* uploadFilesStep(inputId, outputId) {\n",
              "  const inputElement = document.getElementById(inputId);\n",
              "  inputElement.disabled = false;\n",
              "\n",
              "  const outputElement = document.getElementById(outputId);\n",
              "  outputElement.innerHTML = '';\n",
              "\n",
              "  const pickedPromise = new Promise((resolve) => {\n",
              "    inputElement.addEventListener('change', (e) => {\n",
              "      resolve(e.target.files);\n",
              "    });\n",
              "  });\n",
              "\n",
              "  const cancel = document.createElement('button');\n",
              "  inputElement.parentElement.appendChild(cancel);\n",
              "  cancel.textContent = 'Cancel upload';\n",
              "  const cancelPromise = new Promise((resolve) => {\n",
              "    cancel.onclick = () => {\n",
              "      resolve(null);\n",
              "    };\n",
              "  });\n",
              "\n",
              "  // Wait for the user to pick the files.\n",
              "  const files = yield {\n",
              "    promise: Promise.race([pickedPromise, cancelPromise]),\n",
              "    response: {\n",
              "      action: 'starting',\n",
              "    }\n",
              "  };\n",
              "\n",
              "  cancel.remove();\n",
              "\n",
              "  // Disable the input element since further picks are not allowed.\n",
              "  inputElement.disabled = true;\n",
              "\n",
              "  if (!files) {\n",
              "    return {\n",
              "      response: {\n",
              "        action: 'complete',\n",
              "      }\n",
              "    };\n",
              "  }\n",
              "\n",
              "  for (const file of files) {\n",
              "    const li = document.createElement('li');\n",
              "    li.append(span(file.name, {fontWeight: 'bold'}));\n",
              "    li.append(span(\n",
              "        `(${file.type || 'n/a'}) - ${file.size} bytes, ` +\n",
              "        `last modified: ${\n",
              "            file.lastModifiedDate ? file.lastModifiedDate.toLocaleDateString() :\n",
              "                                    'n/a'} - `));\n",
              "    const percent = span('0% done');\n",
              "    li.appendChild(percent);\n",
              "\n",
              "    outputElement.appendChild(li);\n",
              "\n",
              "    const fileDataPromise = new Promise((resolve) => {\n",
              "      const reader = new FileReader();\n",
              "      reader.onload = (e) => {\n",
              "        resolve(e.target.result);\n",
              "      };\n",
              "      reader.readAsArrayBuffer(file);\n",
              "    });\n",
              "    // Wait for the data to be ready.\n",
              "    let fileData = yield {\n",
              "      promise: fileDataPromise,\n",
              "      response: {\n",
              "        action: 'continue',\n",
              "      }\n",
              "    };\n",
              "\n",
              "    // Use a chunked sending to avoid message size limits. See b/62115660.\n",
              "    let position = 0;\n",
              "    do {\n",
              "      const length = Math.min(fileData.byteLength - position, MAX_PAYLOAD_SIZE);\n",
              "      const chunk = new Uint8Array(fileData, position, length);\n",
              "      position += length;\n",
              "\n",
              "      const base64 = btoa(String.fromCharCode.apply(null, chunk));\n",
              "      yield {\n",
              "        response: {\n",
              "          action: 'append',\n",
              "          file: file.name,\n",
              "          data: base64,\n",
              "        },\n",
              "      };\n",
              "\n",
              "      let percentDone = fileData.byteLength === 0 ?\n",
              "          100 :\n",
              "          Math.round((position / fileData.byteLength) * 100);\n",
              "      percent.textContent = `${percentDone}% done`;\n",
              "\n",
              "    } while (position < fileData.byteLength);\n",
              "  }\n",
              "\n",
              "  // All done.\n",
              "  yield {\n",
              "    response: {\n",
              "      action: 'complete',\n",
              "    }\n",
              "  };\n",
              "}\n",
              "\n",
              "scope.google = scope.google || {};\n",
              "scope.google.colab = scope.google.colab || {};\n",
              "scope.google.colab._files = {\n",
              "  _uploadFiles,\n",
              "  _uploadFilesContinue,\n",
              "};\n",
              "})(self);\n",
              "</script> "
            ]
          },
          "metadata": {}
        },
        {
          "output_type": "stream",
          "name": "stdout",
          "text": [
            "Saving Zomato Dataset.csv to Zomato Dataset.csv\n"
          ]
        }
      ]
    },
    {
      "cell_type": "code",
      "source": [
        "import pandas as pd\n",
        "\n",
        "df = pd.read_csv(\"Zomato Dataset.csv\")\n",
        "df.head()\n"
      ],
      "metadata": {
        "colab": {
          "base_uri": "https://localhost:8080/",
          "height": 243
        },
        "id": "DOA_UL1-zeg4",
        "outputId": "6de49969-9295-4fff-d472-8fefbc75fc40"
      },
      "execution_count": null,
      "outputs": [
        {
          "output_type": "execute_result",
          "data": {
            "text/plain": [
              "       ID Delivery_person_ID  Delivery_person_Age  Delivery_person_Ratings  \\\n",
              "0  0xcdcd      DEHRES17DEL01                 36.0                      4.2   \n",
              "1  0xd987      KOCRES16DEL01                 21.0                      4.7   \n",
              "2  0x2784     PUNERES13DEL03                 23.0                      4.7   \n",
              "3  0xc8b6     LUDHRES15DEL02                 34.0                      4.3   \n",
              "4  0xdb64      KNPRES14DEL02                 24.0                      4.7   \n",
              "\n",
              "   Restaurant_latitude  Restaurant_longitude  Delivery_location_latitude  \\\n",
              "0            30.327968             78.046106                   30.397968   \n",
              "1            10.003064             76.307589                   10.043064   \n",
              "2            18.562450             73.916619                   18.652450   \n",
              "3            30.899584             75.809346                   30.919584   \n",
              "4            26.463504             80.372929                   26.593504   \n",
              "\n",
              "   Delivery_location_longitude  Order_Date Time_Orderd Time_Order_picked  \\\n",
              "0                    78.116106  12-02-2022       21:55             22:10   \n",
              "1                    76.347589  13-02-2022       14:55             15:05   \n",
              "2                    74.006619  04-03-2022       17:30             17:40   \n",
              "3                    75.829346  13-02-2022       09:20             09:30   \n",
              "4                    80.502929  14-02-2022       19:50             20:05   \n",
              "\n",
              "  Weather_conditions Road_traffic_density  Vehicle_condition Type_of_order  \\\n",
              "0                Fog                  Jam                  2         Snack   \n",
              "1             Stormy                 High                  1          Meal   \n",
              "2         Sandstorms               Medium                  1        Drinks   \n",
              "3         Sandstorms                  Low                  0        Buffet   \n",
              "4                Fog                  Jam                  1         Snack   \n",
              "\n",
              "  Type_of_vehicle  multiple_deliveries Festival           City  \\\n",
              "0      motorcycle                  3.0       No  Metropolitian   \n",
              "1      motorcycle                  1.0       No  Metropolitian   \n",
              "2         scooter                  1.0       No  Metropolitian   \n",
              "3      motorcycle                  0.0       No  Metropolitian   \n",
              "4         scooter                  1.0       No  Metropolitian   \n",
              "\n",
              "   Time_taken (min)  \n",
              "0                46  \n",
              "1                23  \n",
              "2                21  \n",
              "3                20  \n",
              "4                41  "
            ],
            "text/html": [
              "\n",
              "  <div id=\"df-4a462a81-3ccc-4043-a021-43bd138cb09a\" class=\"colab-df-container\">\n",
              "    <div>\n",
              "<style scoped>\n",
              "    .dataframe tbody tr th:only-of-type {\n",
              "        vertical-align: middle;\n",
              "    }\n",
              "\n",
              "    .dataframe tbody tr th {\n",
              "        vertical-align: top;\n",
              "    }\n",
              "\n",
              "    .dataframe thead th {\n",
              "        text-align: right;\n",
              "    }\n",
              "</style>\n",
              "<table border=\"1\" class=\"dataframe\">\n",
              "  <thead>\n",
              "    <tr style=\"text-align: right;\">\n",
              "      <th></th>\n",
              "      <th>ID</th>\n",
              "      <th>Delivery_person_ID</th>\n",
              "      <th>Delivery_person_Age</th>\n",
              "      <th>Delivery_person_Ratings</th>\n",
              "      <th>Restaurant_latitude</th>\n",
              "      <th>Restaurant_longitude</th>\n",
              "      <th>Delivery_location_latitude</th>\n",
              "      <th>Delivery_location_longitude</th>\n",
              "      <th>Order_Date</th>\n",
              "      <th>Time_Orderd</th>\n",
              "      <th>Time_Order_picked</th>\n",
              "      <th>Weather_conditions</th>\n",
              "      <th>Road_traffic_density</th>\n",
              "      <th>Vehicle_condition</th>\n",
              "      <th>Type_of_order</th>\n",
              "      <th>Type_of_vehicle</th>\n",
              "      <th>multiple_deliveries</th>\n",
              "      <th>Festival</th>\n",
              "      <th>City</th>\n",
              "      <th>Time_taken (min)</th>\n",
              "    </tr>\n",
              "  </thead>\n",
              "  <tbody>\n",
              "    <tr>\n",
              "      <th>0</th>\n",
              "      <td>0xcdcd</td>\n",
              "      <td>DEHRES17DEL01</td>\n",
              "      <td>36.0</td>\n",
              "      <td>4.2</td>\n",
              "      <td>30.327968</td>\n",
              "      <td>78.046106</td>\n",
              "      <td>30.397968</td>\n",
              "      <td>78.116106</td>\n",
              "      <td>12-02-2022</td>\n",
              "      <td>21:55</td>\n",
              "      <td>22:10</td>\n",
              "      <td>Fog</td>\n",
              "      <td>Jam</td>\n",
              "      <td>2</td>\n",
              "      <td>Snack</td>\n",
              "      <td>motorcycle</td>\n",
              "      <td>3.0</td>\n",
              "      <td>No</td>\n",
              "      <td>Metropolitian</td>\n",
              "      <td>46</td>\n",
              "    </tr>\n",
              "    <tr>\n",
              "      <th>1</th>\n",
              "      <td>0xd987</td>\n",
              "      <td>KOCRES16DEL01</td>\n",
              "      <td>21.0</td>\n",
              "      <td>4.7</td>\n",
              "      <td>10.003064</td>\n",
              "      <td>76.307589</td>\n",
              "      <td>10.043064</td>\n",
              "      <td>76.347589</td>\n",
              "      <td>13-02-2022</td>\n",
              "      <td>14:55</td>\n",
              "      <td>15:05</td>\n",
              "      <td>Stormy</td>\n",
              "      <td>High</td>\n",
              "      <td>1</td>\n",
              "      <td>Meal</td>\n",
              "      <td>motorcycle</td>\n",
              "      <td>1.0</td>\n",
              "      <td>No</td>\n",
              "      <td>Metropolitian</td>\n",
              "      <td>23</td>\n",
              "    </tr>\n",
              "    <tr>\n",
              "      <th>2</th>\n",
              "      <td>0x2784</td>\n",
              "      <td>PUNERES13DEL03</td>\n",
              "      <td>23.0</td>\n",
              "      <td>4.7</td>\n",
              "      <td>18.562450</td>\n",
              "      <td>73.916619</td>\n",
              "      <td>18.652450</td>\n",
              "      <td>74.006619</td>\n",
              "      <td>04-03-2022</td>\n",
              "      <td>17:30</td>\n",
              "      <td>17:40</td>\n",
              "      <td>Sandstorms</td>\n",
              "      <td>Medium</td>\n",
              "      <td>1</td>\n",
              "      <td>Drinks</td>\n",
              "      <td>scooter</td>\n",
              "      <td>1.0</td>\n",
              "      <td>No</td>\n",
              "      <td>Metropolitian</td>\n",
              "      <td>21</td>\n",
              "    </tr>\n",
              "    <tr>\n",
              "      <th>3</th>\n",
              "      <td>0xc8b6</td>\n",
              "      <td>LUDHRES15DEL02</td>\n",
              "      <td>34.0</td>\n",
              "      <td>4.3</td>\n",
              "      <td>30.899584</td>\n",
              "      <td>75.809346</td>\n",
              "      <td>30.919584</td>\n",
              "      <td>75.829346</td>\n",
              "      <td>13-02-2022</td>\n",
              "      <td>09:20</td>\n",
              "      <td>09:30</td>\n",
              "      <td>Sandstorms</td>\n",
              "      <td>Low</td>\n",
              "      <td>0</td>\n",
              "      <td>Buffet</td>\n",
              "      <td>motorcycle</td>\n",
              "      <td>0.0</td>\n",
              "      <td>No</td>\n",
              "      <td>Metropolitian</td>\n",
              "      <td>20</td>\n",
              "    </tr>\n",
              "    <tr>\n",
              "      <th>4</th>\n",
              "      <td>0xdb64</td>\n",
              "      <td>KNPRES14DEL02</td>\n",
              "      <td>24.0</td>\n",
              "      <td>4.7</td>\n",
              "      <td>26.463504</td>\n",
              "      <td>80.372929</td>\n",
              "      <td>26.593504</td>\n",
              "      <td>80.502929</td>\n",
              "      <td>14-02-2022</td>\n",
              "      <td>19:50</td>\n",
              "      <td>20:05</td>\n",
              "      <td>Fog</td>\n",
              "      <td>Jam</td>\n",
              "      <td>1</td>\n",
              "      <td>Snack</td>\n",
              "      <td>scooter</td>\n",
              "      <td>1.0</td>\n",
              "      <td>No</td>\n",
              "      <td>Metropolitian</td>\n",
              "      <td>41</td>\n",
              "    </tr>\n",
              "  </tbody>\n",
              "</table>\n",
              "</div>\n",
              "    <div class=\"colab-df-buttons\">\n",
              "\n",
              "  <div class=\"colab-df-container\">\n",
              "    <button class=\"colab-df-convert\" onclick=\"convertToInteractive('df-4a462a81-3ccc-4043-a021-43bd138cb09a')\"\n",
              "            title=\"Convert this dataframe to an interactive table.\"\n",
              "            style=\"display:none;\">\n",
              "\n",
              "  <svg xmlns=\"http://www.w3.org/2000/svg\" height=\"24px\" viewBox=\"0 -960 960 960\">\n",
              "    <path d=\"M120-120v-720h720v720H120Zm60-500h600v-160H180v160Zm220 220h160v-160H400v160Zm0 220h160v-160H400v160ZM180-400h160v-160H180v160Zm440 0h160v-160H620v160ZM180-180h160v-160H180v160Zm440 0h160v-160H620v160Z\"/>\n",
              "  </svg>\n",
              "    </button>\n",
              "\n",
              "  <style>\n",
              "    .colab-df-container {\n",
              "      display:flex;\n",
              "      gap: 12px;\n",
              "    }\n",
              "\n",
              "    .colab-df-convert {\n",
              "      background-color: #E8F0FE;\n",
              "      border: none;\n",
              "      border-radius: 50%;\n",
              "      cursor: pointer;\n",
              "      display: none;\n",
              "      fill: #1967D2;\n",
              "      height: 32px;\n",
              "      padding: 0 0 0 0;\n",
              "      width: 32px;\n",
              "    }\n",
              "\n",
              "    .colab-df-convert:hover {\n",
              "      background-color: #E2EBFA;\n",
              "      box-shadow: 0px 1px 2px rgba(60, 64, 67, 0.3), 0px 1px 3px 1px rgba(60, 64, 67, 0.15);\n",
              "      fill: #174EA6;\n",
              "    }\n",
              "\n",
              "    .colab-df-buttons div {\n",
              "      margin-bottom: 4px;\n",
              "    }\n",
              "\n",
              "    [theme=dark] .colab-df-convert {\n",
              "      background-color: #3B4455;\n",
              "      fill: #D2E3FC;\n",
              "    }\n",
              "\n",
              "    [theme=dark] .colab-df-convert:hover {\n",
              "      background-color: #434B5C;\n",
              "      box-shadow: 0px 1px 3px 1px rgba(0, 0, 0, 0.15);\n",
              "      filter: drop-shadow(0px 1px 2px rgba(0, 0, 0, 0.3));\n",
              "      fill: #FFFFFF;\n",
              "    }\n",
              "  </style>\n",
              "\n",
              "    <script>\n",
              "      const buttonEl =\n",
              "        document.querySelector('#df-4a462a81-3ccc-4043-a021-43bd138cb09a button.colab-df-convert');\n",
              "      buttonEl.style.display =\n",
              "        google.colab.kernel.accessAllowed ? 'block' : 'none';\n",
              "\n",
              "      async function convertToInteractive(key) {\n",
              "        const element = document.querySelector('#df-4a462a81-3ccc-4043-a021-43bd138cb09a');\n",
              "        const dataTable =\n",
              "          await google.colab.kernel.invokeFunction('convertToInteractive',\n",
              "                                                    [key], {});\n",
              "        if (!dataTable) return;\n",
              "\n",
              "        const docLinkHtml = 'Like what you see? Visit the ' +\n",
              "          '<a target=\"_blank\" href=https://colab.research.google.com/notebooks/data_table.ipynb>data table notebook</a>'\n",
              "          + ' to learn more about interactive tables.';\n",
              "        element.innerHTML = '';\n",
              "        dataTable['output_type'] = 'display_data';\n",
              "        await google.colab.output.renderOutput(dataTable, element);\n",
              "        const docLink = document.createElement('div');\n",
              "        docLink.innerHTML = docLinkHtml;\n",
              "        element.appendChild(docLink);\n",
              "      }\n",
              "    </script>\n",
              "  </div>\n",
              "\n",
              "\n",
              "<div id=\"df-15f772a2-043f-4f64-b9fa-0a9d98045620\">\n",
              "  <button class=\"colab-df-quickchart\" onclick=\"quickchart('df-15f772a2-043f-4f64-b9fa-0a9d98045620')\"\n",
              "            title=\"Suggest charts\"\n",
              "            style=\"display:none;\">\n",
              "\n",
              "<svg xmlns=\"http://www.w3.org/2000/svg\" height=\"24px\"viewBox=\"0 0 24 24\"\n",
              "     width=\"24px\">\n",
              "    <g>\n",
              "        <path d=\"M19 3H5c-1.1 0-2 .9-2 2v14c0 1.1.9 2 2 2h14c1.1 0 2-.9 2-2V5c0-1.1-.9-2-2-2zM9 17H7v-7h2v7zm4 0h-2V7h2v10zm4 0h-2v-4h2v4z\"/>\n",
              "    </g>\n",
              "</svg>\n",
              "  </button>\n",
              "\n",
              "<style>\n",
              "  .colab-df-quickchart {\n",
              "      --bg-color: #E8F0FE;\n",
              "      --fill-color: #1967D2;\n",
              "      --hover-bg-color: #E2EBFA;\n",
              "      --hover-fill-color: #174EA6;\n",
              "      --disabled-fill-color: #AAA;\n",
              "      --disabled-bg-color: #DDD;\n",
              "  }\n",
              "\n",
              "  [theme=dark] .colab-df-quickchart {\n",
              "      --bg-color: #3B4455;\n",
              "      --fill-color: #D2E3FC;\n",
              "      --hover-bg-color: #434B5C;\n",
              "      --hover-fill-color: #FFFFFF;\n",
              "      --disabled-bg-color: #3B4455;\n",
              "      --disabled-fill-color: #666;\n",
              "  }\n",
              "\n",
              "  .colab-df-quickchart {\n",
              "    background-color: var(--bg-color);\n",
              "    border: none;\n",
              "    border-radius: 50%;\n",
              "    cursor: pointer;\n",
              "    display: none;\n",
              "    fill: var(--fill-color);\n",
              "    height: 32px;\n",
              "    padding: 0;\n",
              "    width: 32px;\n",
              "  }\n",
              "\n",
              "  .colab-df-quickchart:hover {\n",
              "    background-color: var(--hover-bg-color);\n",
              "    box-shadow: 0 1px 2px rgba(60, 64, 67, 0.3), 0 1px 3px 1px rgba(60, 64, 67, 0.15);\n",
              "    fill: var(--button-hover-fill-color);\n",
              "  }\n",
              "\n",
              "  .colab-df-quickchart-complete:disabled,\n",
              "  .colab-df-quickchart-complete:disabled:hover {\n",
              "    background-color: var(--disabled-bg-color);\n",
              "    fill: var(--disabled-fill-color);\n",
              "    box-shadow: none;\n",
              "  }\n",
              "\n",
              "  .colab-df-spinner {\n",
              "    border: 2px solid var(--fill-color);\n",
              "    border-color: transparent;\n",
              "    border-bottom-color: var(--fill-color);\n",
              "    animation:\n",
              "      spin 1s steps(1) infinite;\n",
              "  }\n",
              "\n",
              "  @keyframes spin {\n",
              "    0% {\n",
              "      border-color: transparent;\n",
              "      border-bottom-color: var(--fill-color);\n",
              "      border-left-color: var(--fill-color);\n",
              "    }\n",
              "    20% {\n",
              "      border-color: transparent;\n",
              "      border-left-color: var(--fill-color);\n",
              "      border-top-color: var(--fill-color);\n",
              "    }\n",
              "    30% {\n",
              "      border-color: transparent;\n",
              "      border-left-color: var(--fill-color);\n",
              "      border-top-color: var(--fill-color);\n",
              "      border-right-color: var(--fill-color);\n",
              "    }\n",
              "    40% {\n",
              "      border-color: transparent;\n",
              "      border-right-color: var(--fill-color);\n",
              "      border-top-color: var(--fill-color);\n",
              "    }\n",
              "    60% {\n",
              "      border-color: transparent;\n",
              "      border-right-color: var(--fill-color);\n",
              "    }\n",
              "    80% {\n",
              "      border-color: transparent;\n",
              "      border-right-color: var(--fill-color);\n",
              "      border-bottom-color: var(--fill-color);\n",
              "    }\n",
              "    90% {\n",
              "      border-color: transparent;\n",
              "      border-bottom-color: var(--fill-color);\n",
              "    }\n",
              "  }\n",
              "</style>\n",
              "\n",
              "  <script>\n",
              "    async function quickchart(key) {\n",
              "      const quickchartButtonEl =\n",
              "        document.querySelector('#' + key + ' button');\n",
              "      quickchartButtonEl.disabled = true;  // To prevent multiple clicks.\n",
              "      quickchartButtonEl.classList.add('colab-df-spinner');\n",
              "      try {\n",
              "        const charts = await google.colab.kernel.invokeFunction(\n",
              "            'suggestCharts', [key], {});\n",
              "      } catch (error) {\n",
              "        console.error('Error during call to suggestCharts:', error);\n",
              "      }\n",
              "      quickchartButtonEl.classList.remove('colab-df-spinner');\n",
              "      quickchartButtonEl.classList.add('colab-df-quickchart-complete');\n",
              "    }\n",
              "    (() => {\n",
              "      let quickchartButtonEl =\n",
              "        document.querySelector('#df-15f772a2-043f-4f64-b9fa-0a9d98045620 button');\n",
              "      quickchartButtonEl.style.display =\n",
              "        google.colab.kernel.accessAllowed ? 'block' : 'none';\n",
              "    })();\n",
              "  </script>\n",
              "</div>\n",
              "\n",
              "    </div>\n",
              "  </div>\n"
            ],
            "application/vnd.google.colaboratory.intrinsic+json": {
              "type": "dataframe",
              "variable_name": "df",
              "summary": "{\n  \"name\": \"df\",\n  \"rows\": 45584,\n  \"fields\": [\n    {\n      \"column\": \"ID\",\n      \"properties\": {\n        \"dtype\": \"string\",\n        \"num_unique_values\": 45584,\n        \"samples\": [\n          \"0xcfcd\",\n          \"0x4f03\",\n          \"0xc48b\"\n        ],\n        \"semantic_type\": \"\",\n        \"description\": \"\"\n      }\n    },\n    {\n      \"column\": \"Delivery_person_ID\",\n      \"properties\": {\n        \"dtype\": \"category\",\n        \"num_unique_values\": 1320,\n        \"samples\": [\n          \"LUDHRES02DEL03\",\n          \"VADRES02DEL01\",\n          \"INDORES13DEL01\"\n        ],\n        \"semantic_type\": \"\",\n        \"description\": \"\"\n      }\n    },\n    {\n      \"column\": \"Delivery_person_Age\",\n      \"properties\": {\n        \"dtype\": \"number\",\n        \"std\": 5.815063854587488,\n        \"min\": 15.0,\n        \"max\": 50.0,\n        \"num_unique_values\": 22,\n        \"samples\": [\n          36.0,\n          26.0,\n          25.0\n        ],\n        \"semantic_type\": \"\",\n        \"description\": \"\"\n      }\n    },\n    {\n      \"column\": \"Delivery_person_Ratings\",\n      \"properties\": {\n        \"dtype\": \"number\",\n        \"std\": 0.3347437201745157,\n        \"min\": 1.0,\n        \"max\": 6.0,\n        \"num_unique_values\": 28,\n        \"samples\": [\n          3.5,\n          2.8,\n          4.8\n        ],\n        \"semantic_type\": \"\",\n        \"description\": \"\"\n      }\n    },\n    {\n      \"column\": \"Restaurant_latitude\",\n      \"properties\": {\n        \"dtype\": \"number\",\n        \"std\": 8.185673779879592,\n        \"min\": -30.905562,\n        \"max\": 30.914057,\n        \"num_unique_values\": 657,\n        \"samples\": [\n          -17.426228,\n          12.981615,\n          17.431668\n        ],\n        \"semantic_type\": \"\",\n        \"description\": \"\"\n      }\n    },\n    {\n      \"column\": \"Restaurant_longitude\",\n      \"properties\": {\n        \"dtype\": \"number\",\n        \"std\": 22.8855748639992,\n        \"min\": -88.366217,\n        \"max\": 88.433452,\n        \"num_unique_values\": 518,\n        \"samples\": [\n          -73.804855,\n          88.433187,\n          76.654878\n        ],\n        \"semantic_type\": \"\",\n        \"description\": \"\"\n      }\n    },\n    {\n      \"column\": \"Delivery_location_latitude\",\n      \"properties\": {\n        \"dtype\": \"number\",\n        \"std\": 7.335561662334285,\n        \"min\": 0.01,\n        \"max\": 31.054057,\n        \"num_unique_values\": 4373,\n        \"samples\": [\n          27.29185,\n          18.583811,\n          11.076686\n        ],\n        \"semantic_type\": \"\",\n        \"description\": \"\"\n      }\n    },\n    {\n      \"column\": \"Delivery_location_longitude\",\n      \"properties\": {\n        \"dtype\": \"number\",\n        \"std\": 21.12057827510338,\n        \"min\": 0.01,\n        \"max\": 88.563452,\n        \"num_unique_values\": 4373,\n        \"samples\": [\n          78.170165,\n          73.949315,\n          77.021736\n        ],\n        \"semantic_type\": \"\",\n        \"description\": \"\"\n      }\n    },\n    {\n      \"column\": \"Order_Date\",\n      \"properties\": {\n        \"dtype\": \"category\",\n        \"num_unique_values\": 44,\n        \"samples\": [\n          \"16-02-2022\",\n          \"06-04-2022\",\n          \"04-04-2022\"\n        ],\n        \"semantic_type\": \"\",\n        \"description\": \"\"\n      }\n    },\n    {\n      \"column\": \"Time_Orderd\",\n      \"properties\": {\n        \"dtype\": \"category\",\n        \"num_unique_values\": 176,\n        \"samples\": [\n          \"22:35\",\n          \"22:25\",\n          \"17:40\"\n        ],\n        \"semantic_type\": \"\",\n        \"description\": \"\"\n      }\n    },\n    {\n      \"column\": \"Time_Order_picked\",\n      \"properties\": {\n        \"dtype\": \"category\",\n        \"num_unique_values\": 193,\n        \"samples\": [\n          \"09:40\",\n          \"11:05\",\n          \"10:40\"\n        ],\n        \"semantic_type\": \"\",\n        \"description\": \"\"\n      }\n    },\n    {\n      \"column\": \"Weather_conditions\",\n      \"properties\": {\n        \"dtype\": \"category\",\n        \"num_unique_values\": 6,\n        \"samples\": [\n          \"Fog\",\n          \"Stormy\",\n          \"Sunny\"\n        ],\n        \"semantic_type\": \"\",\n        \"description\": \"\"\n      }\n    },\n    {\n      \"column\": \"Road_traffic_density\",\n      \"properties\": {\n        \"dtype\": \"category\",\n        \"num_unique_values\": 4,\n        \"samples\": [\n          \"High\",\n          \"Low\",\n          \"Jam\"\n        ],\n        \"semantic_type\": \"\",\n        \"description\": \"\"\n      }\n    },\n    {\n      \"column\": \"Vehicle_condition\",\n      \"properties\": {\n        \"dtype\": \"number\",\n        \"std\": 0,\n        \"min\": 0,\n        \"max\": 3,\n        \"num_unique_values\": 4,\n        \"samples\": [\n          1,\n          3,\n          2\n        ],\n        \"semantic_type\": \"\",\n        \"description\": \"\"\n      }\n    },\n    {\n      \"column\": \"Type_of_order\",\n      \"properties\": {\n        \"dtype\": \"category\",\n        \"num_unique_values\": 4,\n        \"samples\": [\n          \"Meal\",\n          \"Buffet\",\n          \"Snack\"\n        ],\n        \"semantic_type\": \"\",\n        \"description\": \"\"\n      }\n    },\n    {\n      \"column\": \"Type_of_vehicle\",\n      \"properties\": {\n        \"dtype\": \"category\",\n        \"num_unique_values\": 4,\n        \"samples\": [\n          \"scooter\",\n          \"bicycle\",\n          \"motorcycle\"\n        ],\n        \"semantic_type\": \"\",\n        \"description\": \"\"\n      }\n    },\n    {\n      \"column\": \"multiple_deliveries\",\n      \"properties\": {\n        \"dtype\": \"number\",\n        \"std\": 0.5725098447367195,\n        \"min\": 0.0,\n        \"max\": 3.0,\n        \"num_unique_values\": 4,\n        \"samples\": [\n          1.0,\n          2.0,\n          3.0\n        ],\n        \"semantic_type\": \"\",\n        \"description\": \"\"\n      }\n    },\n    {\n      \"column\": \"Festival\",\n      \"properties\": {\n        \"dtype\": \"category\",\n        \"num_unique_values\": 2,\n        \"samples\": [\n          \"Yes\",\n          \"No\"\n        ],\n        \"semantic_type\": \"\",\n        \"description\": \"\"\n      }\n    },\n    {\n      \"column\": \"City\",\n      \"properties\": {\n        \"dtype\": \"category\",\n        \"num_unique_values\": 3,\n        \"samples\": [\n          \"Metropolitian\",\n          \"Urban\"\n        ],\n        \"semantic_type\": \"\",\n        \"description\": \"\"\n      }\n    },\n    {\n      \"column\": \"Time_taken (min)\",\n      \"properties\": {\n        \"dtype\": \"number\",\n        \"std\": 9,\n        \"min\": 10,\n        \"max\": 54,\n        \"num_unique_values\": 45,\n        \"samples\": [\n          48,\n          16\n        ],\n        \"semantic_type\": \"\",\n        \"description\": \"\"\n      }\n    }\n  ]\n}"
            }
          },
          "metadata": {},
          "execution_count": 57
        }
      ]
    },
    {
      "cell_type": "code",
      "source": [
        "df.info()"
      ],
      "metadata": {
        "colab": {
          "base_uri": "https://localhost:8080/"
        },
        "id": "hu7lPS84z1pX",
        "outputId": "288fad52-f3e8-46f6-d6d7-403b21a695bb"
      },
      "execution_count": null,
      "outputs": [
        {
          "output_type": "stream",
          "name": "stdout",
          "text": [
            "<class 'pandas.core.frame.DataFrame'>\n",
            "RangeIndex: 45584 entries, 0 to 45583\n",
            "Data columns (total 20 columns):\n",
            " #   Column                       Non-Null Count  Dtype  \n",
            "---  ------                       --------------  -----  \n",
            " 0   ID                           45584 non-null  object \n",
            " 1   Delivery_person_ID           45584 non-null  object \n",
            " 2   Delivery_person_Age          43730 non-null  float64\n",
            " 3   Delivery_person_Ratings      43676 non-null  float64\n",
            " 4   Restaurant_latitude          45584 non-null  float64\n",
            " 5   Restaurant_longitude         45584 non-null  float64\n",
            " 6   Delivery_location_latitude   45584 non-null  float64\n",
            " 7   Delivery_location_longitude  45584 non-null  float64\n",
            " 8   Order_Date                   45584 non-null  object \n",
            " 9   Time_Orderd                  43853 non-null  object \n",
            " 10  Time_Order_picked            45584 non-null  object \n",
            " 11  Weather_conditions           44968 non-null  object \n",
            " 12  Road_traffic_density         44983 non-null  object \n",
            " 13  Vehicle_condition            45584 non-null  int64  \n",
            " 14  Type_of_order                45584 non-null  object \n",
            " 15  Type_of_vehicle              45584 non-null  object \n",
            " 16  multiple_deliveries          44591 non-null  float64\n",
            " 17  Festival                     45356 non-null  object \n",
            " 18  City                         44384 non-null  object \n",
            " 19  Time_taken (min)             45584 non-null  int64  \n",
            "dtypes: float64(7), int64(2), object(11)\n",
            "memory usage: 7.0+ MB\n"
          ]
        }
      ]
    },
    {
      "cell_type": "code",
      "source": [
        "ages = df['Delivery_person_Age'].values\n",
        "ratings = df['Delivery_person_Ratings'].values\n",
        "time_taken = pd.to_numeric(df['Time_taken (min)'].astype(str).str.replace('min', '', regex=False), errors='coerce').values\n"
      ],
      "metadata": {
        "id": "BwM8QEar-EpA"
      },
      "execution_count": null,
      "outputs": []
    },
    {
      "cell_type": "code",
      "source": [
        "print(\"Ages sample:\", ages[:5])\n",
        "print(\"Ratings sample:\", ratings[:5])\n",
        "print(\"Time Taken sample:\", time_taken[:5])"
      ],
      "metadata": {
        "colab": {
          "base_uri": "https://localhost:8080/"
        },
        "id": "g7GkQLNh-wNi",
        "outputId": "fb8af1e5-d907-4530-854c-bae0979b9137"
      },
      "execution_count": null,
      "outputs": [
        {
          "output_type": "stream",
          "name": "stdout",
          "text": [
            "Ages sample: [36. 21. 23. 34. 24.]\n",
            "Ratings sample: [4.2 4.7 4.7 4.3 4.7]\n",
            "Time Taken sample: [46 23 21 20 41]\n"
          ]
        }
      ]
    },
    {
      "cell_type": "code",
      "source": [
        "# First 5 ages\n",
        "print(\"First 5 Ages:\", ages[:5])\n",
        "\n",
        "# Ratings from index 3 to 8\n",
        "print(\"Ratings [3 to 7]:\", ratings[3:8])\n",
        "\n",
        "# Last 5 delivery times\n",
        "print(\"Last 5 Delivery Times:\", time_taken[-5:])\n"
      ],
      "metadata": {
        "colab": {
          "base_uri": "https://localhost:8080/"
        },
        "id": "FLXgyId1-6D5",
        "outputId": "f5e4fd8a-e3d2-4389-a681-d5847451a0b9"
      },
      "execution_count": null,
      "outputs": [
        {
          "output_type": "stream",
          "name": "stdout",
          "text": [
            "First 5 Ages: [36. 21. 23. 34. 24.]\n",
            "Ratings [3 to 7]: [4.3 4.7 4.5 4.  4.2]\n",
            "Last 5 Delivery Times: [32 36 16 26 36]\n"
          ]
        }
      ]
    },
    {
      "cell_type": "code",
      "source": [
        "print(\"Original shape of time_taken:\", time_taken.shape)\n"
      ],
      "metadata": {
        "colab": {
          "base_uri": "https://localhost:8080/"
        },
        "id": "Sbi2TFAQ_ied",
        "outputId": "0cf41475-ac8c-4b95-b302-9f62f7c11f26"
      },
      "execution_count": null,
      "outputs": [
        {
          "output_type": "stream",
          "name": "stdout",
          "text": [
            "Original shape of time_taken: (45584,)\n"
          ]
        }
      ]
    },
    {
      "cell_type": "markdown",
      "source": [
        "Reshaping to 2D"
      ],
      "metadata": {
        "id": "P0pyMZPD_nxa"
      }
    },
    {
      "cell_type": "code",
      "source": [
        "time_taken_2d = time_taken.reshape(-1, 1)\n",
        "print(\"Shape after reshaping to column vector:\", time_taken_2d.shape)\n",
        "print(\"First 5 rows:\\n\", time_taken_2d[:5])\n"
      ],
      "metadata": {
        "colab": {
          "base_uri": "https://localhost:8080/"
        },
        "id": "UnuusGHr_o33",
        "outputId": "bfcd2274-0832-4e88-b95a-e95983ec95a9"
      },
      "execution_count": null,
      "outputs": [
        {
          "output_type": "stream",
          "name": "stdout",
          "text": [
            "Shape after reshaping to column vector: (45584, 1)\n",
            "First 5 rows:\n",
            " [[46]\n",
            " [23]\n",
            " [21]\n",
            " [20]\n",
            " [41]]\n"
          ]
        }
      ]
    },
    {
      "cell_type": "markdown",
      "source": [
        "Reshape to (rows, columns) format"
      ],
      "metadata": {
        "id": "9yCXsMgh_vO6"
      }
    },
    {
      "cell_type": "code",
      "source": [
        "reshaped = time_taken[:20].reshape(4, 5)  # First 20 values as 4 rows, 5 columns\n",
        "print(\"Reshaped to (4,5):\\n\", reshaped)\n"
      ],
      "metadata": {
        "colab": {
          "base_uri": "https://localhost:8080/"
        },
        "id": "aUTuaHrx_wLk",
        "outputId": "d9693c79-7803-4abb-fd59-8e0d3835c571"
      },
      "execution_count": null,
      "outputs": [
        {
          "output_type": "stream",
          "name": "stdout",
          "text": [
            "Reshaped to (4,5):\n",
            " [[46 23 21 20 41]\n",
            " [20 33 40 41 15]\n",
            " [36 26 20 39 34]\n",
            " [15 18 38 47 12]]\n"
          ]
        }
      ]
    },
    {
      "cell_type": "markdown",
      "source": [
        " Flatten a 2D array back to 1D"
      ],
      "metadata": {
        "id": "FAhcee_V_0km"
      }
    },
    {
      "cell_type": "code",
      "source": [
        "flattened = reshaped.flatten()\n",
        "print(\"Flattened back to 1D:\", flattened)\n"
      ],
      "metadata": {
        "colab": {
          "base_uri": "https://localhost:8080/"
        },
        "id": "RgwrstK0_1oy",
        "outputId": "43788bde-3ba0-4b02-de6f-b8f92be93b35"
      },
      "execution_count": null,
      "outputs": [
        {
          "output_type": "stream",
          "name": "stdout",
          "text": [
            "Flattened back to 1D: [46 23 21 20 41 20 33 40 41 15 36 26 20 39 34 15 18 38 47 12]\n"
          ]
        }
      ]
    },
    {
      "cell_type": "markdown",
      "source": [
        " **Concatenation**"
      ],
      "metadata": {
        "id": "C7leCmWC_3ef"
      }
    },
    {
      "cell_type": "code",
      "source": [
        "time_taken_2d = time_taken.reshape(-1, 1)\n",
        "ratings_2d = ratings.reshape(-1, 1)\n",
        "# Horizontally concatenate ratings and time_taken\n",
        "combined = np.hstack((ratings_2d, time_taken_2d))\n",
        "print(\"Shape after hstack (side by side):\", combined.shape)\n",
        "print(\"First 5 rows:\\n\", combined[:5])\n",
        "\n",
        "# Vertically stack first 5 of each\n",
        "stacked = np.vstack((ratings_2d[:5], time_taken_2d[:5]))\n",
        "print(\"Vertically stacked (ratings + time):\\n\", stacked)\n"
      ],
      "metadata": {
        "colab": {
          "base_uri": "https://localhost:8080/"
        },
        "id": "Vf1gzta3_9Fh",
        "outputId": "ed728ca7-5855-473f-db00-cb79a17de2eb"
      },
      "execution_count": null,
      "outputs": [
        {
          "output_type": "stream",
          "name": "stdout",
          "text": [
            "Shape after hstack (side by side): (45584, 2)\n",
            "First 5 rows:\n",
            " [[ 4.2 46. ]\n",
            " [ 4.7 23. ]\n",
            " [ 4.7 21. ]\n",
            " [ 4.3 20. ]\n",
            " [ 4.7 41. ]]\n",
            "Vertically stacked (ratings + time):\n",
            " [[ 4.2]\n",
            " [ 4.7]\n",
            " [ 4.7]\n",
            " [ 4.3]\n",
            " [ 4.7]\n",
            " [46. ]\n",
            " [23. ]\n",
            " [21. ]\n",
            " [20. ]\n",
            " [41. ]]\n"
          ]
        }
      ]
    },
    {
      "cell_type": "markdown",
      "source": [
        "**Splitting**"
      ],
      "metadata": {
        "id": "K9m9hYc7AR7y"
      }
    },
    {
      "cell_type": "code",
      "source": [
        "# Horizontal split (split columns)\n",
        "split_ratings, split_time = np.hsplit(combined, 2)\n",
        "print(\"Split Ratings (first 5):\", split_ratings[:5])\n",
        "print(\"Split Time Taken (first 5):\", split_time[:5])\n",
        "\n",
        "# Vertical split (split rows into 2 halves)\n",
        "top, bottom = np.vsplit(combined[:10], 2)\n",
        "print(\"Top half:\\n\", top)\n",
        "print(\"Bottom half:\\n\", bottom)\n"
      ],
      "metadata": {
        "colab": {
          "base_uri": "https://localhost:8080/"
        },
        "id": "9egJNJlGAVmM",
        "outputId": "cd4ba4c8-7c9f-4399-e542-e9f580a4a69e"
      },
      "execution_count": null,
      "outputs": [
        {
          "output_type": "stream",
          "name": "stdout",
          "text": [
            "Split Ratings (first 5): [[4.2]\n",
            " [4.7]\n",
            " [4.7]\n",
            " [4.3]\n",
            " [4.7]]\n",
            "Split Time Taken (first 5): [[46.]\n",
            " [23.]\n",
            " [21.]\n",
            " [20.]\n",
            " [41.]]\n",
            "Top half:\n",
            " [[ 4.2 46. ]\n",
            " [ 4.7 23. ]\n",
            " [ 4.7 21. ]\n",
            " [ 4.3 20. ]\n",
            " [ 4.7 41. ]]\n",
            "Bottom half:\n",
            " [[ 4.5 20. ]\n",
            " [ 4.  33. ]\n",
            " [ 4.2 40. ]\n",
            " [ 4.9 41. ]\n",
            " [ 4.7 15. ]]\n"
          ]
        }
      ]
    },
    {
      "cell_type": "markdown",
      "source": [
        " Math operations on arrays"
      ],
      "metadata": {
        "id": "S66PSTVhAjgZ"
      }
    },
    {
      "cell_type": "code",
      "source": [
        "# Square root of time taken\n",
        "print(\"√ Time Taken (first 5):\", np.sqrt(time_taken[:5]))\n",
        "\n",
        "# Exponent of ratings\n",
        "print(\"exp(Ratings) (first 5):\", np.exp(ratings[:5]))\n",
        "\n",
        "# Log of time taken (log1p handles 0 safely as log(1 + x))\n",
        "print(\"log(Time Taken + 1):\", np.log1p(time_taken[:5]))\n",
        "\n",
        "# Absolute values (in case of any negatives)\n",
        "print(\"Absolute Ratings:\", np.abs(ratings[:5]))\n",
        "\n",
        "# Trigonometric just for demo (not practical here)\n",
        "print(\"sin(Ratings):\", np.sin(ratings[:5]))\n",
        "\n",
        "\n",
        "# Round ratings\n",
        "print(\"Rounded Ratings:\", np.round(ratings[:5]))\n",
        "\n",
        "# Ceiling and floor\n",
        "print(\"Ceil Ratings:\", np.ceil(ratings[:5]))\n",
        "print(\"Floor Ratings:\", np.floor(ratings[:5]))\n",
        "\n",
        "# Check where rating > 4\n",
        "print(\"Ratings > 4:\", ratings[:5] > 4)\n",
        "\n"
      ],
      "metadata": {
        "colab": {
          "base_uri": "https://localhost:8080/"
        },
        "id": "GSLk5PScAlro",
        "outputId": "3b1c639f-1895-4e71-9c1e-1f062d7bf8fe"
      },
      "execution_count": null,
      "outputs": [
        {
          "output_type": "stream",
          "name": "stdout",
          "text": [
            "√ Time Taken (first 5): [6.78232998 4.79583152 4.58257569 4.47213595 6.40312424]\n",
            "exp(Ratings) (first 5): [ 66.68633104 109.94717245 109.94717245  73.6997937  109.94717245]\n",
            "log(Time Taken + 1): [3.8501476  3.17805383 3.09104245 3.04452244 3.73766962]\n",
            "Absolute Ratings: [4.2 4.7 4.7 4.3 4.7]\n",
            "sin(Ratings): [-0.87157577 -0.99992326 -0.99992326 -0.91616594 -0.99992326]\n",
            "Rounded Ratings: [4. 5. 5. 4. 5.]\n",
            "Ceil Ratings: [5. 5. 5. 5. 5.]\n",
            "Floor Ratings: [4. 4. 4. 4. 4.]\n",
            "Ratings > 4: [ True  True  True  True  True]\n"
          ]
        }
      ]
    },
    {
      "cell_type": "markdown",
      "source": [
        "**Aggregation functions**"
      ],
      "metadata": {
        "id": "41_VEOHWA5DG"
      }
    },
    {
      "cell_type": "code",
      "source": [
        "print(\"Mean Age:\", np.nanmean(ages))\n",
        "print(\"Mean Rating:\", np.nanmean(ratings))\n",
        "print(\"Mean Time Taken:\", np.nanmean(time_taken))\n",
        "\n",
        "print(\"Max Age:\", np.nanmax(ages))\n",
        "print(\"Min Rating:\", np.nanmin(ratings))\n",
        "\n",
        "print(\"Standard Deviation (Time Taken):\", np.nanstd(time_taken))\n",
        "print(\"Variance (Ratings):\", np.nanvar(ratings))\n",
        "\n",
        "print(\"Sum of Time Taken:\", np.nansum(time_taken))\n",
        "print(\"Count of non-null Ages:\", np.count_nonzero(~np.isnan(ages)))\n"
      ],
      "metadata": {
        "colab": {
          "base_uri": "https://localhost:8080/"
        },
        "id": "-viT_IdcA9Tb",
        "outputId": "8351fdbd-44e6-460d-aa01-a0eb288c880d"
      },
      "execution_count": null,
      "outputs": [
        {
          "output_type": "stream",
          "name": "stdout",
          "text": [
            "Mean Age: 29.566910587697233\n",
            "Mean Rating: 4.6337736972250205\n",
            "Mean Time Taken: 26.293962793962795\n",
            "Max Age: 50.0\n",
            "Min Rating: 1.0\n",
            "Standard Deviation (Time Taken): 9.384194798984712\n",
            "Variance (Ratings): 0.1120507926372235\n",
            "Sum of Time Taken: 1198584\n",
            "Count of non-null Ages: 43730\n"
          ]
        }
      ]
    },
    {
      "cell_type": "code",
      "source": [
        "# Combine ratings and time_taken for demo\n",
        "combined = np.hstack((ratings.reshape(-1,1), time_taken.reshape(-1,1)))\n",
        "\n",
        "print(\"Column-wise Mean (Ratings, Time):\", np.nanmean(combined, axis=0))\n",
        "print(\"Row-wise Sum (first 5):\", np.nansum(combined[:5], axis=1))\n"
      ],
      "metadata": {
        "colab": {
          "base_uri": "https://localhost:8080/"
        },
        "id": "nYd9V7XMBAk9",
        "outputId": "e34ba8d5-ed1c-40c8-a30f-3e960000c126"
      },
      "execution_count": null,
      "outputs": [
        {
          "output_type": "stream",
          "name": "stdout",
          "text": [
            "Column-wise Mean (Ratings, Time): [ 4.6337737  26.29396279]\n",
            "Row-wise Sum (first 5): [50.2 27.7 25.7 24.3 45.7]\n"
          ]
        }
      ]
    },
    {
      "cell_type": "markdown",
      "source": [
        " Broadcasting — NumPy with Zomato Data"
      ],
      "metadata": {
        "id": "UKYNpLXgBPB2"
      }
    },
    {
      "cell_type": "code",
      "source": [
        "# Broadcast a row to all rows\n",
        "adjustment = np.array([0.5, 10])  # Add 0.5 to ratings, 10 to time\n",
        "\n",
        "combined = np.hstack((ratings.reshape(-1,1), time_taken.reshape(-1,1)))\n",
        "broadcasted_result = combined[:5] + adjustment\n",
        "print(\"Broadcasted addition (ratings+0.5, time+10):\\n\", broadcasted_result)\n"
      ],
      "metadata": {
        "colab": {
          "base_uri": "https://localhost:8080/"
        },
        "id": "zWt6TwuoBOvy",
        "outputId": "52db989c-a2ac-49f3-f412-7140f451a74e"
      },
      "execution_count": null,
      "outputs": [
        {
          "output_type": "stream",
          "name": "stdout",
          "text": [
            "Broadcasted addition (ratings+0.5, time+10):\n",
            " [[ 4.7 56. ]\n",
            " [ 5.2 33. ]\n",
            " [ 5.2 31. ]\n",
            " [ 4.8 30. ]\n",
            " [ 5.2 51. ]]\n"
          ]
        }
      ]
    },
    {
      "cell_type": "code",
      "source": [
        "print(\"Time Taken in Hours:\\n\", time_taken[:5] / 60)\n"
      ],
      "metadata": {
        "colab": {
          "base_uri": "https://localhost:8080/"
        },
        "id": "VGxj2gdjBeMj",
        "outputId": "464ba6b7-e1a1-4efb-c623-ebbff476ca28"
      },
      "execution_count": null,
      "outputs": [
        {
          "output_type": "stream",
          "name": "stdout",
          "text": [
            "Time Taken in Hours:\n",
            " [0.76666667 0.38333333 0.35       0.33333333 0.68333333]\n"
          ]
        }
      ]
    },
    {
      "cell_type": "markdown",
      "source": [
        " Boolean Masking"
      ],
      "metadata": {
        "id": "Wqb0ofUDBkBH"
      }
    },
    {
      "cell_type": "code",
      "source": [
        "# Delivery persons with rating > 4.5\n",
        "high_rated = ratings > 4.5\n",
        "print(\"High Rated Boolean Mask (first 10):\", high_rated[:10])\n",
        "\n",
        "# Ages of highly-rated delivery persons\n",
        "print(\"Ages with rating > 4.5:\\n\", ages[high_rated])\n"
      ],
      "metadata": {
        "colab": {
          "base_uri": "https://localhost:8080/"
        },
        "id": "SlIilZNFBlG_",
        "outputId": "60a825e0-7057-42ad-ccd1-98686d23bb28"
      },
      "execution_count": null,
      "outputs": [
        {
          "output_type": "stream",
          "name": "stdout",
          "text": [
            "High Rated Boolean Mask (first 10): [False  True  True False  True False False False  True  True]\n",
            "Ages with rating > 4.5:\n",
            " [21. 23. 24. ... 30. 20. 23.]\n",
            "Matching Ages:\n",
            " [21. 23. 34. ... 28. 30. 20.]\n",
            "Matching Time Taken:\n",
            " [23 21 20 ... 29 16 26]\n"
          ]
        }
      ]
    },
    {
      "cell_type": "code",
      "source": [
        "# Deliveries with rating > 4 AND time taken < 30\n",
        "mask = (ratings > 4) & (time_taken < 30)\n",
        "print(\"Matching Ages:\\n\", ages[mask])\n",
        "print(\"Matching Time Taken:\\n\", time_taken[mask])\n"
      ],
      "metadata": {
        "colab": {
          "base_uri": "https://localhost:8080/"
        },
        "id": "No_BHX2FBqtI",
        "outputId": "63f41eef-b882-4a0b-8832-91e61bf58096"
      },
      "execution_count": null,
      "outputs": [
        {
          "output_type": "stream",
          "name": "stdout",
          "text": [
            "Matching Ages:\n",
            " [21. 23. 34. ... 28. 30. 20.]\n",
            "Matching Time Taken:\n",
            " [23 21 20 ... 29 16 26]\n"
          ]
        }
      ]
    },
    {
      "cell_type": "markdown",
      "source": [
        "Fancy Indexing"
      ],
      "metadata": {
        "id": "8LqiO2eKBtie"
      }
    },
    {
      "cell_type": "code",
      "source": [
        "# Ratings at specific row indices\n",
        "indices = [0, 2, 5, 9]\n",
        "print(\"Ratings at indices [0,2,5,9]:\", ratings[indices])\n",
        "\n",
        "# Top 5 highest rated deliveries\n",
        "top5_idx = np.argsort(ratings)[-5:]\n",
        "print(\"Top 5 Ratings:\", ratings[top5_idx])\n",
        "print(\"Time Taken for Top 5 Ratings:\", time_taken[top5_idx])"
      ],
      "metadata": {
        "colab": {
          "base_uri": "https://localhost:8080/"
        },
        "id": "G5WMv2liBvAQ",
        "outputId": "8a3aae57-9b28-4f9b-ffde-8dc645d4973d"
      },
      "execution_count": null,
      "outputs": [
        {
          "output_type": "stream",
          "name": "stdout",
          "text": [
            "Ratings at indices [0,2,5,9]: [4.2 4.7 4.5 4.7]\n",
            "Top 5 Ratings: [nan nan nan nan nan]\n",
            "Time Taken for Top 5 Ratings: [49 19 26 49 44]\n"
          ]
        }
      ]
    },
    {
      "cell_type": "code",
      "source": [
        "#  Remove NaNs from age and use clean arrays\n",
        "valid_mask = ~np.isnan(ages)\n",
        "clean_ages = ages[valid_mask]\n",
        "clean_ratings = ratings[valid_mask]\n",
        "clean_time = time_taken[valid_mask]\n",
        "print(\"Clean Ages (no NaNs):\", clean_ages[:5])"
      ],
      "metadata": {
        "colab": {
          "base_uri": "https://localhost:8080/"
        },
        "id": "foQrE3PjCRF8",
        "outputId": "44d1b5ff-1cfe-4ce1-c8de-98b7614719e3"
      },
      "execution_count": null,
      "outputs": [
        {
          "output_type": "stream",
          "name": "stdout",
          "text": [
            "Clean Ages (no NaNs): [36. 21. 23. 34. 24.]\n"
          ]
        }
      ]
    },
    {
      "cell_type": "markdown",
      "source": [
        "sorting"
      ],
      "metadata": {
        "id": "GBGGlUd4Cg48"
      }
    },
    {
      "cell_type": "code",
      "source": [
        " #Sort delivery time (ascending)\n",
        "sorted_time = np.sort(time_taken)\n",
        "print(\"Sorted Time Taken (Ascending):\", sorted_time[:10])\n",
        "\n",
        "#  Sort ratings (descending)\n",
        "sorted_ratings_desc = np.sort(ratings)[::-1]\n",
        "print(\"Sorted Ratings (Descending):\", sorted_ratings_desc[:10])\n",
        "\n",
        "#  Get indices that would sort time_taken\n",
        "time_order = np.argsort(time_taken)\n",
        "print(\"Indices that sort time:\", time_order[:10])\n",
        "\n",
        "#  Use sorting indices to sort corresponding ages\n",
        "sorted_ages_by_time = ages[time_order]\n",
        "print(\"Ages sorted by delivery time:\", sorted_ages_by_time[:10])\n"
      ],
      "metadata": {
        "colab": {
          "base_uri": "https://localhost:8080/"
        },
        "id": "Q4bdcVQ3CjOr",
        "outputId": "266f1252-47f5-4a30-af6b-d4956297fba5"
      },
      "execution_count": null,
      "outputs": [
        {
          "output_type": "stream",
          "name": "stdout",
          "text": [
            "Sorted Time Taken (Ascending): [10 10 10 10 10 10 10 10 10 10]\n",
            "Sorted Ratings (Descending): [nan nan nan nan nan nan nan nan nan nan]\n",
            "Indices that sort time: [31937    66 37845 37853 41840 24866   825 30633 40227 17186]\n",
            "Ages sorted by delivery time: [27. 26. 35. 29. nan 39. 33. 25. 23. 29.]\n"
          ]
        }
      ]
    },
    {
      "cell_type": "markdown",
      "source": [
        "# **PANDAS OPERATIONS**"
      ],
      "metadata": {
        "id": "w7l0ICdXGOZC"
      }
    },
    {
      "cell_type": "markdown",
      "source": [
        "**Series**"
      ],
      "metadata": {
        "id": "fCEyon-RGePz"
      }
    },
    {
      "cell_type": "code",
      "source": [
        "# Series from numeric column\n",
        "age_series = df['Delivery_person_Age']\n",
        "print(\"Age Series:\\n\", age_series.head())\n",
        "\n",
        "# Series from float column\n",
        "rating_series = df['Delivery_person_Ratings']\n",
        "print(\"\\nRating Series:\\n\", rating_series.head())\n",
        "\n",
        "# Series from categorical column\n",
        "city_series = df['City']\n",
        "print(\"\\nCity Series:\\n\", city_series.head())\n",
        "\n",
        "# Series from boolean/festival column\n",
        "festival_series = df['Festival']\n",
        "print(\"\\nFestival Series:\\n\", festival_series.head())\n"
      ],
      "metadata": {
        "colab": {
          "base_uri": "https://localhost:8080/"
        },
        "id": "TxUxCnMTGUZR",
        "outputId": "9eee3c5d-2461-4f2d-ba77-aa8d0ba8daf3"
      },
      "execution_count": null,
      "outputs": [
        {
          "output_type": "stream",
          "name": "stdout",
          "text": [
            "Age Series:\n",
            " 0    36.0\n",
            "1    21.0\n",
            "2    23.0\n",
            "3    34.0\n",
            "4    24.0\n",
            "Name: Delivery_person_Age, dtype: float64\n",
            "\n",
            "Rating Series:\n",
            " 0    4.2\n",
            "1    4.7\n",
            "2    4.7\n",
            "3    4.3\n",
            "4    4.7\n",
            "Name: Delivery_person_Ratings, dtype: float64\n",
            "\n",
            "City Series:\n",
            " 0    Metropolitian\n",
            "1    Metropolitian\n",
            "2    Metropolitian\n",
            "3    Metropolitian\n",
            "4    Metropolitian\n",
            "Name: City, dtype: object\n",
            "\n",
            "Festival Series:\n",
            " 0    No\n",
            "1    No\n",
            "2    No\n",
            "3    No\n",
            "4    No\n",
            "Name: Festival, dtype: object\n"
          ]
        }
      ]
    },
    {
      "cell_type": "markdown",
      "source": [
        "Custom Index Series"
      ],
      "metadata": {
        "id": "g31fQ4j-GrUx"
      }
    },
    {
      "cell_type": "code",
      "source": [
        "# Ratings with Delivery_person_ID as index\n",
        "ratings_with_id = pd.Series(df['Delivery_person_Ratings'].values, index=df['Delivery_person_ID'])\n",
        "print(\"\\nCustom Indexed Series (Ratings by ID):\\n\", ratings_with_id.head())\n"
      ],
      "metadata": {
        "colab": {
          "base_uri": "https://localhost:8080/"
        },
        "id": "EAaGp_ZjGsXO",
        "outputId": "120fc9db-d47a-453c-c039-8d45cff944e5"
      },
      "execution_count": null,
      "outputs": [
        {
          "output_type": "stream",
          "name": "stdout",
          "text": [
            "\n",
            "Custom Indexed Series (Ratings by ID):\n",
            " Delivery_person_ID\n",
            "DEHRES17DEL01     4.2\n",
            "KOCRES16DEL01     4.7\n",
            "PUNERES13DEL03    4.7\n",
            "LUDHRES15DEL02    4.3\n",
            "KNPRES14DEL02     4.7\n",
            "dtype: float64\n"
          ]
        }
      ]
    },
    {
      "cell_type": "code",
      "source": [
        "# Ratings with Delivery_person_ID as index\n",
        "ratings_with_id = pd.Series(df['Delivery_person_Ratings'].values, index=df['Delivery_person_ID'])\n",
        "print(\"\\nCustom Indexed Series (Ratings by ID):\\n\", ratings_with_id.head())\n",
        "\n",
        "# Series Properties\n",
        "print(\"Mean Age (excluding nulls):\", age_series.mean())\n",
        "print(\"Max Rating:\", rating_series.max())\n",
        "print(\"Unique Cities:\\n\", city_series.unique())\n",
        "print(\"City value counts:\\n\", city_series.value_counts())\n"
      ],
      "metadata": {
        "colab": {
          "base_uri": "https://localhost:8080/"
        },
        "id": "xrHmb5-fG1AT",
        "outputId": "4bbd31bb-08d6-4fb9-97de-cb4321e27226"
      },
      "execution_count": null,
      "outputs": [
        {
          "output_type": "stream",
          "name": "stdout",
          "text": [
            "\n",
            "Custom Indexed Series (Ratings by ID):\n",
            " Delivery_person_ID\n",
            "DEHRES17DEL01     4.2\n",
            "KOCRES16DEL01     4.7\n",
            "PUNERES13DEL03    4.7\n",
            "LUDHRES15DEL02    4.3\n",
            "KNPRES14DEL02     4.7\n",
            "dtype: float64\n",
            "Mean Age (excluding nulls): 29.566910587697233\n",
            "Max Rating: 6.0\n",
            "Unique Cities:\n",
            " ['Metropolitian' 'Urban' 'Semi-Urban' nan]\n",
            "City value counts:\n",
            " City\n",
            "Metropolitian    34087\n",
            "Urban            10133\n",
            "Semi-Urban         164\n",
            "Name: count, dtype: int64\n"
          ]
        }
      ]
    },
    {
      "cell_type": "markdown",
      "source": [
        "**DataFrame**"
      ],
      "metadata": {
        "id": "5Ob7rOrVHGUZ"
      }
    },
    {
      "cell_type": "code",
      "source": [
        "print(\"Shape of DataFrame (rows, columns):\", df.shape)\n",
        "print(\"\\nColumn Names:\\n\", df.columns)\n",
        "print(\"\\nData Types of Columns:\\n\", df.dtypes)\n"
      ],
      "metadata": {
        "colab": {
          "base_uri": "https://localhost:8080/"
        },
        "id": "8eN-Z3vYHIrc",
        "outputId": "aeba7cac-9f17-4d3b-a345-9dbf653f748a"
      },
      "execution_count": null,
      "outputs": [
        {
          "output_type": "stream",
          "name": "stdout",
          "text": [
            "Shape of DataFrame (rows, columns): (45584, 20)\n",
            "\n",
            "Column Names:\n",
            " Index(['ID', 'Delivery_person_ID', 'Delivery_person_Age',\n",
            "       'Delivery_person_Ratings', 'Restaurant_latitude',\n",
            "       'Restaurant_longitude', 'Delivery_location_latitude',\n",
            "       'Delivery_location_longitude', 'Order_Date', 'Time_Orderd',\n",
            "       'Time_Order_picked', 'Weather_conditions', 'Road_traffic_density',\n",
            "       'Vehicle_condition', 'Type_of_order', 'Type_of_vehicle',\n",
            "       'multiple_deliveries', 'Festival', 'City', 'Time_taken (min)'],\n",
            "      dtype='object')\n",
            "\n",
            "Data Types of Columns:\n",
            " ID                              object\n",
            "Delivery_person_ID              object\n",
            "Delivery_person_Age            float64\n",
            "Delivery_person_Ratings        float64\n",
            "Restaurant_latitude            float64\n",
            "Restaurant_longitude           float64\n",
            "Delivery_location_latitude     float64\n",
            "Delivery_location_longitude    float64\n",
            "Order_Date                      object\n",
            "Time_Orderd                     object\n",
            "Time_Order_picked               object\n",
            "Weather_conditions              object\n",
            "Road_traffic_density            object\n",
            "Vehicle_condition                int64\n",
            "Type_of_order                   object\n",
            "Type_of_vehicle                 object\n",
            "multiple_deliveries            float64\n",
            "Festival                        object\n",
            "City                            object\n",
            "Time_taken (min)                 int64\n",
            "dtype: object\n"
          ]
        }
      ]
    },
    {
      "cell_type": "markdown",
      "source": [
        "Accessing rows"
      ],
      "metadata": {
        "id": "jHJypaYIHZUq"
      }
    },
    {
      "cell_type": "code",
      "source": [
        "print(\"First Row:\\n\", df.iloc[0])\n",
        "print(\"\\nRow with index 10:\\n\", df.iloc[10])\n",
        "selected = df[['Delivery_person_ID', 'City', 'Festival', 'Type_of_order']]\n",
        "print(\"Selected Columns:\\n\", selected.head())\n"
      ],
      "metadata": {
        "colab": {
          "base_uri": "https://localhost:8080/"
        },
        "id": "Dk9BBqHcHbS_",
        "outputId": "dc68f2cf-5a80-4ebe-d687-aa558869bfba"
      },
      "execution_count": null,
      "outputs": [
        {
          "output_type": "stream",
          "name": "stdout",
          "text": [
            "First Row:\n",
            " ID                                    0xcdcd\n",
            "Delivery_person_ID             DEHRES17DEL01\n",
            "Delivery_person_Age                     36.0\n",
            "Delivery_person_Ratings                  4.2\n",
            "Restaurant_latitude                30.327968\n",
            "Restaurant_longitude               78.046106\n",
            "Delivery_location_latitude         30.397968\n",
            "Delivery_location_longitude        78.116106\n",
            "Order_Date                        12-02-2022\n",
            "Time_Orderd                            21:55\n",
            "Time_Order_picked                      22:10\n",
            "Weather_conditions                       Fog\n",
            "Road_traffic_density                     Jam\n",
            "Vehicle_condition                          2\n",
            "Type_of_order                          Snack\n",
            "Type_of_vehicle                   motorcycle\n",
            "multiple_deliveries                      3.0\n",
            "Festival                                  No\n",
            "City                           Metropolitian\n",
            "Time_taken (min)                          46\n",
            "Name: 0, dtype: object\n",
            "\n",
            "Row with index 10:\n",
            " ID                                     0x36b8\n",
            "Delivery_person_ID             PUNERES19DEL02\n",
            "Delivery_person_Age                      25.0\n",
            "Delivery_person_Ratings                   4.1\n",
            "Restaurant_latitude                 18.563934\n",
            "Restaurant_longitude                73.915367\n",
            "Delivery_location_latitude          18.643935\n",
            "Delivery_location_longitude         73.995367\n",
            "Order_Date                         16-03-2022\n",
            "Time_Orderd                             20:20\n",
            "Time_Order_picked                       20:25\n",
            "Weather_conditions                 Sandstorms\n",
            "Road_traffic_density                      Jam\n",
            "Vehicle_condition                           0\n",
            "Type_of_order                           Snack\n",
            "Type_of_vehicle                    motorcycle\n",
            "multiple_deliveries                       2.0\n",
            "Festival                                   No\n",
            "City                            Metropolitian\n",
            "Time_taken (min)                           36\n",
            "Name: 10, dtype: object\n",
            "Selected Columns:\n",
            "   Delivery_person_ID           City Festival Type_of_order\n",
            "0      DEHRES17DEL01  Metropolitian       No         Snack\n",
            "1      KOCRES16DEL01  Metropolitian       No          Meal\n",
            "2     PUNERES13DEL03  Metropolitian       No        Drinks\n",
            "3     LUDHRES15DEL02  Metropolitian       No        Buffet\n",
            "4      KNPRES14DEL02  Metropolitian       No         Snack\n"
          ]
        }
      ]
    },
    {
      "cell_type": "markdown",
      "source": [],
      "metadata": {
        "id": "IMZURkJtHasa"
      }
    },
    {
      "cell_type": "markdown",
      "source": [
        "creating new colums"
      ],
      "metadata": {
        "id": "qYZsn_GsHiP-"
      }
    },
    {
      "cell_type": "code",
      "source": [
        "df['Order_Year'] = pd.to_datetime(df['Order_Date'], dayfirst=True).dt.year\n",
        "print(\"Order_Year column added:\\n\", df[['Order_Date', 'Order_Year']].head())\n"
      ],
      "metadata": {
        "colab": {
          "base_uri": "https://localhost:8080/"
        },
        "id": "1Q_ZbpmtHjkB",
        "outputId": "355cf649-ec95-41f6-c1c3-d5bf648a4823"
      },
      "execution_count": null,
      "outputs": [
        {
          "output_type": "stream",
          "name": "stdout",
          "text": [
            "Order_Year column added:\n",
            "    Order_Date  Order_Year\n",
            "0  12-02-2022        2022\n",
            "1  13-02-2022        2022\n",
            "2  04-03-2022        2022\n",
            "3  13-02-2022        2022\n",
            "4  14-02-2022        2022\n"
          ]
        }
      ]
    },
    {
      "cell_type": "code",
      "source": [
        "# Single column as a Series\n",
        "print(df['Delivery_person_Age'].head())\n",
        "print()\n",
        "\n",
        "# Multiple columns as a DataFrame\n",
        "print(df[['Delivery_person_Age', 'Delivery_person_Ratings', 'City']].head())\n",
        "print()\n",
        "\n",
        "# Access row by label-based indexing (for row label/index)\n",
        "print(df.loc[0])     # First row\n",
        "\n",
        "print()\n",
        "# Access row by integer position\n",
        "print(df.iloc[2])    # Third row\n",
        "\n",
        "print()\n",
        "\n",
        "# Using .loc[row_label, column_label]\n",
        "print(df.loc[0, 'City'])\n",
        "print()\n",
        "\n",
        "# Using .iloc[row_position, column_position]\n",
        "print(df.iloc[4, 10])   # For example, 5th row, 11th column (like Time_Order_picked)\n"
      ],
      "metadata": {
        "colab": {
          "base_uri": "https://localhost:8080/"
        },
        "id": "V8K0ih5wH602",
        "outputId": "ce4d396e-700c-4daf-d5fb-99f350c4b41a"
      },
      "execution_count": null,
      "outputs": [
        {
          "output_type": "stream",
          "name": "stdout",
          "text": [
            "0    36.0\n",
            "1    21.0\n",
            "2    23.0\n",
            "3    34.0\n",
            "4    24.0\n",
            "Name: Delivery_person_Age, dtype: float64\n",
            "\n",
            "   Delivery_person_Age  Delivery_person_Ratings           City\n",
            "0                 36.0                      4.2  Metropolitian\n",
            "1                 21.0                      4.7  Metropolitian\n",
            "2                 23.0                      4.7  Metropolitian\n",
            "3                 34.0                      4.3  Metropolitian\n",
            "4                 24.0                      4.7  Metropolitian\n",
            "\n",
            "ID                                    0xcdcd\n",
            "Delivery_person_ID             DEHRES17DEL01\n",
            "Delivery_person_Age                     36.0\n",
            "Delivery_person_Ratings                  4.2\n",
            "Restaurant_latitude                30.327968\n",
            "Restaurant_longitude               78.046106\n",
            "Delivery_location_latitude         30.397968\n",
            "Delivery_location_longitude        78.116106\n",
            "Order_Date                        12-02-2022\n",
            "Time_Orderd                            21:55\n",
            "Time_Order_picked                      22:10\n",
            "Weather_conditions                       Fog\n",
            "Road_traffic_density                     Jam\n",
            "Vehicle_condition                          2\n",
            "Type_of_order                          Snack\n",
            "Type_of_vehicle                   motorcycle\n",
            "multiple_deliveries                      3.0\n",
            "Festival                                  No\n",
            "City                           Metropolitian\n",
            "Time_taken (min)                          46\n",
            "Order_Year                              2022\n",
            "Name: 0, dtype: object\n",
            "\n",
            "ID                                     0x2784\n",
            "Delivery_person_ID             PUNERES13DEL03\n",
            "Delivery_person_Age                      23.0\n",
            "Delivery_person_Ratings                   4.7\n",
            "Restaurant_latitude                  18.56245\n",
            "Restaurant_longitude                73.916619\n",
            "Delivery_location_latitude           18.65245\n",
            "Delivery_location_longitude         74.006619\n",
            "Order_Date                         04-03-2022\n",
            "Time_Orderd                             17:30\n",
            "Time_Order_picked                       17:40\n",
            "Weather_conditions                 Sandstorms\n",
            "Road_traffic_density                   Medium\n",
            "Vehicle_condition                           1\n",
            "Type_of_order                          Drinks\n",
            "Type_of_vehicle                       scooter\n",
            "multiple_deliveries                       1.0\n",
            "Festival                                   No\n",
            "City                            Metropolitian\n",
            "Time_taken (min)                           21\n",
            "Order_Year                               2022\n",
            "Name: 2, dtype: object\n",
            "\n",
            "Metropolitian\n",
            "\n",
            "20:05\n"
          ]
        }
      ]
    },
    {
      "cell_type": "markdown",
      "source": [
        "**INDEX ALIGNMENT & OPERATIONS BETWEEN SERIES AND DATAFRAMES**"
      ],
      "metadata": {
        "id": "cbwJfoYlIoFR"
      }
    },
    {
      "cell_type": "code",
      "source": [
        "# Series: average value of each numeric column\n",
        "column_means = df[['Delivery_person_Age', 'Delivery_person_Ratings', 'Vehicle_condition', 'Time_taken (min)']].mean()\n",
        "print(\"Column-wise Means:\\n\", column_means)\n",
        "\n",
        "# Subset DataFrame with numeric columns\n",
        "numeric_df = df[['Delivery_person_Age', 'Delivery_person_Ratings', 'Vehicle_condition', 'Time_taken (min)']]\n",
        "\n",
        "# Subtract column means from each row\n",
        "centered_df = numeric_df - column_means\n",
        "print(\"\\nCentered Data (each value - column mean):\\n\", centered_df.head())\n",
        "\n",
        "# Series with a value per row\n",
        "time_taken_series = df['Time_taken (min)']\n",
        "\n",
        "# Broadcast row-wise operation: add time_taken_series to each column\n",
        "added_time_df = numeric_df.add(time_taken_series, axis=0)  # aligns on row index\n",
        "print(\"\\nEach numeric column + time_taken:\\n\", added_time_df.head())\n",
        "\n",
        "# Misaligned Series  — auto aligns only matching indexes\n",
        "limited_series = pd.Series([100, 200, 300], index=[0, 1, 2])\n",
        "misaligned_added = df['Time_taken (min)'] + limited_series\n",
        "print(\"\\nAddition with partially matching indexes (index alignment):\\n\", misaligned_added.head())\n"
      ],
      "metadata": {
        "colab": {
          "base_uri": "https://localhost:8080/"
        },
        "id": "rIJEwWkjIyJs",
        "outputId": "d96d8693-dd65-475a-8de7-a6cd910a6899"
      },
      "execution_count": null,
      "outputs": [
        {
          "output_type": "stream",
          "name": "stdout",
          "text": [
            "Column-wise Means:\n",
            " Delivery_person_Age        29.566911\n",
            "Delivery_person_Ratings     4.633774\n",
            "Vehicle_condition           1.023385\n",
            "Time_taken (min)           26.293963\n",
            "dtype: float64\n",
            "\n",
            "Centered Data (each value - column mean):\n",
            "    Delivery_person_Age  Delivery_person_Ratings  Vehicle_condition  \\\n",
            "0             6.433089                -0.433774           0.976615   \n",
            "1            -8.566911                 0.066226          -0.023385   \n",
            "2            -6.566911                 0.066226          -0.023385   \n",
            "3             4.433089                -0.333774          -1.023385   \n",
            "4            -5.566911                 0.066226          -0.023385   \n",
            "\n",
            "   Time_taken (min)  \n",
            "0         19.706037  \n",
            "1         -3.293963  \n",
            "2         -5.293963  \n",
            "3         -6.293963  \n",
            "4         14.706037  \n",
            "\n",
            "Each numeric column + time_taken:\n",
            "    Delivery_person_Age  Delivery_person_Ratings  Vehicle_condition  \\\n",
            "0                 82.0                     50.2                 48   \n",
            "1                 44.0                     27.7                 24   \n",
            "2                 44.0                     25.7                 22   \n",
            "3                 54.0                     24.3                 20   \n",
            "4                 65.0                     45.7                 42   \n",
            "\n",
            "   Time_taken (min)  \n",
            "0                92  \n",
            "1                46  \n",
            "2                42  \n",
            "3                40  \n",
            "4                82  \n",
            "\n",
            "Addition with partially matching indexes (index alignment):\n",
            " 0    146.0\n",
            "1    223.0\n",
            "2    321.0\n",
            "3      NaN\n",
            "4      NaN\n",
            "dtype: float64\n"
          ]
        }
      ]
    },
    {
      "cell_type": "markdown",
      "source": [],
      "metadata": {
        "id": "fiJU8EcBIr1a"
      }
    },
    {
      "cell_type": "markdown",
      "source": [
        "**Handling missing data**"
      ],
      "metadata": {
        "id": "thVwVjByJlDN"
      }
    },
    {
      "cell_type": "code",
      "source": [
        "# Check nulls\n",
        "print(df.isnull().sum())\n",
        "print(\"Total nulls:\", df.isnull().sum().sum())\n",
        "\n",
        "# View rows with any nulls\n",
        "print(df[df.isnull().any(axis=1)].head())\n",
        "\n",
        "# Specific column nulls\n",
        "print(df[df['Delivery_person_Age'].isnull()].head())\n",
        "\n",
        "# Drop null rows\n",
        "df_dropped = df.dropna()\n",
        "print(\"Shape after dropna:\", df_dropped.shape)\n",
        "\n",
        "# Fill age with mean\n",
        "df_age_filled = df.copy()\n",
        "df_age_filled['Delivery_person_Age'] = df_age_filled['Delivery_person_Age'].fillna(df['Delivery_person_Age'].mean())\n",
        "print(df_age_filled['Delivery_person_Age'].head())\n",
        "\n",
        "# Fill weather with mode\n",
        "df_weather_filled = df.copy()\n",
        "df_weather_filled['Weather_conditions'] = df_weather_filled['Weather_conditions'].fillna(df['Weather_conditions'].mode()[0])\n",
        "print(df_weather_filled['Weather_conditions'].head())\n",
        "\n",
        "# Backward fill city\n",
        "df_bfill = df.copy()\n",
        "df_bfill['City'] = df_bfill['City'].fillna(method='bfill')\n",
        "print(df_bfill['City'].head())\n"
      ],
      "metadata": {
        "colab": {
          "base_uri": "https://localhost:8080/"
        },
        "id": "h3QyMgIfJtin",
        "outputId": "484c9794-cbfd-4c67-c126-b2fa8d52401d"
      },
      "execution_count": null,
      "outputs": [
        {
          "output_type": "stream",
          "name": "stdout",
          "text": [
            "ID                                0\n",
            "Delivery_person_ID                0\n",
            "Delivery_person_Age            1854\n",
            "Delivery_person_Ratings        1908\n",
            "Restaurant_latitude               0\n",
            "Restaurant_longitude              0\n",
            "Delivery_location_latitude        0\n",
            "Delivery_location_longitude       0\n",
            "Order_Date                        0\n",
            "Time_Orderd                    1731\n",
            "Time_Order_picked                 0\n",
            "Weather_conditions              616\n",
            "Road_traffic_density            601\n",
            "Vehicle_condition                 0\n",
            "Type_of_order                     0\n",
            "Type_of_vehicle                   0\n",
            "multiple_deliveries             993\n",
            "Festival                        228\n",
            "City                           1200\n",
            "Time_taken (min)                  0\n",
            "Order_Year                        0\n",
            "dtype: int64\n",
            "Total nulls: 9131\n",
            "        ID Delivery_person_ID  Delivery_person_Age  Delivery_person_Ratings  \\\n",
            "8   0x6f67      HYDRES14DEL01                 34.0                      4.9   \n",
            "33   0x4f0      MUMRES17DEL02                  NaN                      NaN   \n",
            "49  0xb002      JAPRES14DEL01                 32.0                      4.5   \n",
            "65   0xa9f     BANGRES13DEL01                  NaN                      NaN   \n",
            "77  0x837c     PUNERES14DEL02                 39.0                      4.8   \n",
            "\n",
            "    Restaurant_latitude  Restaurant_longitude  Delivery_location_latitude  \\\n",
            "8             17.426228             78.407495                   17.496228   \n",
            "33            19.121999             72.908493                   19.201999   \n",
            "49            26.888420             75.800689                   26.898420   \n",
            "65            12.935662             77.614130                   12.975662   \n",
            "77            18.516216             73.842527                   18.566216   \n",
            "\n",
            "    Delivery_location_longitude  Order_Date Time_Orderd  ...  \\\n",
            "8                     78.477495  20-03-2022       20:40  ...   \n",
            "33                    72.988493  06-04-2022         NaN  ...   \n",
            "49                    75.810689  26-03-2022       09:25  ...   \n",
            "65                    77.654130  11-03-2022         NaN  ...   \n",
            "77                    73.892527  03-03-2022       21:55  ...   \n",
            "\n",
            "   Weather_conditions Road_traffic_density Vehicle_condition  Type_of_order  \\\n",
            "8              Cloudy                  Jam                 0          Snack   \n",
            "33             Cloudy               Medium                 1         Drinks   \n",
            "49              Windy                  Low                 2         Buffet   \n",
            "65                NaN                  NaN                 1         Drinks   \n",
            "77             Stormy                  Jam                 1           Meal   \n",
            "\n",
            "   Type_of_vehicle multiple_deliveries  Festival           City  \\\n",
            "8       motorcycle                 NaN        No  Metropolitian   \n",
            "33         scooter                 1.0        No  Metropolitian   \n",
            "49         scooter                 0.0        No            NaN   \n",
            "65         scooter                 0.0        No  Metropolitian   \n",
            "77      motorcycle                 NaN        No  Metropolitian   \n",
            "\n",
            "   Time_taken (min)  Order_Year  \n",
            "8                41        2022  \n",
            "33               33        2022  \n",
            "49               20        2022  \n",
            "65               19        2022  \n",
            "77               28        2022  \n",
            "\n",
            "[5 rows x 21 columns]\n",
            "         ID Delivery_person_ID  Delivery_person_Age  Delivery_person_Ratings  \\\n",
            "33    0x4f0      MUMRES17DEL02                  NaN                      NaN   \n",
            "65    0xa9f     BANGRES13DEL01                  NaN                      NaN   \n",
            "111   0x6e2      VADRES06DEL01                  NaN                      NaN   \n",
            "131  0x1ec7     PUNERES05DEL03                  NaN                      NaN   \n",
            "170  0x1b58      JAPRES03DEL01                  NaN                      NaN   \n",
            "\n",
            "     Restaurant_latitude  Restaurant_longitude  Delivery_location_latitude  \\\n",
            "33             19.121999             72.908493                   19.201999   \n",
            "65             12.935662             77.614130                   12.975662   \n",
            "111            22.312790             73.170283                   22.422790   \n",
            "131            18.543626             73.905101                   18.573626   \n",
            "170            26.913483             75.803139                   26.983483   \n",
            "\n",
            "     Delivery_location_longitude  Order_Date Time_Orderd  ...  \\\n",
            "33                     72.988493  06-04-2022         NaN  ...   \n",
            "65                     77.654130  11-03-2022         NaN  ...   \n",
            "111                    73.280283  02-04-2022         NaN  ...   \n",
            "131                    73.935101  09-03-2022         NaN  ...   \n",
            "170                    75.873139  12-03-2022         NaN  ...   \n",
            "\n",
            "    Weather_conditions Road_traffic_density Vehicle_condition  Type_of_order  \\\n",
            "33              Cloudy               Medium                 1         Drinks   \n",
            "65                 NaN                  NaN                 1         Drinks   \n",
            "111                NaN                  NaN                 3          Snack   \n",
            "131             Stormy                  Low                 2          Snack   \n",
            "170         Sandstorms               Medium                 0         Drinks   \n",
            "\n",
            "      Type_of_vehicle multiple_deliveries  Festival           City  \\\n",
            "33            scooter                 1.0        No  Metropolitian   \n",
            "65            scooter                 0.0        No  Metropolitian   \n",
            "111  electric_scooter                 0.0        No  Metropolitian   \n",
            "131           scooter                 0.0        No            NaN   \n",
            "170        motorcycle                 0.0        No  Metropolitian   \n",
            "\n",
            "    Time_taken (min)  Order_Year  \n",
            "33                33        2022  \n",
            "65                19        2022  \n",
            "111               25        2022  \n",
            "131               19        2022  \n",
            "170               43        2022  \n",
            "\n",
            "[5 rows x 21 columns]\n",
            "Shape after dropna: (41359, 21)\n",
            "0    36.0\n",
            "1    21.0\n",
            "2    23.0\n",
            "3    34.0\n",
            "4    24.0\n",
            "Name: Delivery_person_Age, dtype: float64\n",
            "0           Fog\n",
            "1        Stormy\n",
            "2    Sandstorms\n",
            "3    Sandstorms\n",
            "4           Fog\n",
            "Name: Weather_conditions, dtype: object\n",
            "0    Metropolitian\n",
            "1    Metropolitian\n",
            "2    Metropolitian\n",
            "3    Metropolitian\n",
            "4    Metropolitian\n",
            "Name: City, dtype: object\n"
          ]
        },
        {
          "output_type": "stream",
          "name": "stderr",
          "text": [
            "<ipython-input-100-745c3e7550dd>:27: FutureWarning: Series.fillna with 'method' is deprecated and will raise in a future version. Use obj.ffill() or obj.bfill() instead.\n",
            "  df_bfill['City'] = df_bfill['City'].fillna(method='bfill')\n"
          ]
        }
      ]
    },
    {
      "cell_type": "markdown",
      "source": [
        "**Hierarchical Indexing**"
      ],
      "metadata": {
        "id": "VG1Xf9CXJ-1d"
      }
    },
    {
      "cell_type": "code",
      "source": [
        "# Seting MultiIndex\n",
        "df_multi = df.set_index(['City', 'Type_of_order'])\n",
        "print(\"MultiIndex DataFrame:\\n\", df_multi.head())\n",
        "\n",
        "# Accesing rows using   tuple\n",
        "print(\"\\nAccessing rows for ('Urban', 'Snack'):\\n\", df_multi.loc[('Urban', 'Snack')].head())\n",
        "\n",
        "# Resetting index back to default integer index\n",
        "df_reset = df_multi.reset_index()\n",
        "print(\"\\nReset index:\\n\", df_reset.head())\n",
        "\n",
        "# Create custom MultiIndex DataFrame\n",
        "multi_index = pd.MultiIndex.from_tuples(\n",
        "    [('Urban', 'Snack'), ('Urban', 'Meal'), ('Semi-Urban', 'Buffet')],\n",
        "    names=['City', 'Order_Type']\n",
        ")\n",
        "df_custom = pd.DataFrame({'Ratings': [4.6, 4.2, 3.8]}, index=multi_index)\n",
        "print(\"\\nCustom MultiIndex DataFrame:\\n\", df_custom)\n",
        "\n",
        "# Swap index levels\n",
        "df_swapped = df_multi.swaplevel()\n",
        "print(\"\\nSwapped index levels:\\n\", df_swapped.head())\n",
        "\n",
        "# Sort by index\n",
        "df_sorted = df_multi.sort_index()\n",
        "print(\"\\nSorted MultiIndex DataFrame:\\n\", df_sorted.head())\n"
      ],
      "metadata": {
        "colab": {
          "base_uri": "https://localhost:8080/"
        },
        "id": "H9qX3RtCKDXO",
        "outputId": "b81a7746-726f-466f-b37f-dc60fc50895b"
      },
      "execution_count": null,
      "outputs": [
        {
          "output_type": "stream",
          "name": "stdout",
          "text": [
            "MultiIndex DataFrame:\n",
            "                                  ID Delivery_person_ID  Delivery_person_Age  \\\n",
            "City          Type_of_order                                                   \n",
            "Metropolitian Snack          0xcdcd      DEHRES17DEL01                 36.0   \n",
            "              Meal           0xd987      KOCRES16DEL01                 21.0   \n",
            "              Drinks         0x2784     PUNERES13DEL03                 23.0   \n",
            "              Buffet         0xc8b6     LUDHRES15DEL02                 34.0   \n",
            "              Snack          0xdb64      KNPRES14DEL02                 24.0   \n",
            "\n",
            "                             Delivery_person_Ratings  Restaurant_latitude  \\\n",
            "City          Type_of_order                                                 \n",
            "Metropolitian Snack                              4.2            30.327968   \n",
            "              Meal                               4.7            10.003064   \n",
            "              Drinks                             4.7            18.562450   \n",
            "              Buffet                             4.3            30.899584   \n",
            "              Snack                              4.7            26.463504   \n",
            "\n",
            "                             Restaurant_longitude  Delivery_location_latitude  \\\n",
            "City          Type_of_order                                                     \n",
            "Metropolitian Snack                     78.046106                   30.397968   \n",
            "              Meal                      76.307589                   10.043064   \n",
            "              Drinks                    73.916619                   18.652450   \n",
            "              Buffet                    75.809346                   30.919584   \n",
            "              Snack                     80.372929                   26.593504   \n",
            "\n",
            "                             Delivery_location_longitude  Order_Date  \\\n",
            "City          Type_of_order                                            \n",
            "Metropolitian Snack                            78.116106  12-02-2022   \n",
            "              Meal                             76.347589  13-02-2022   \n",
            "              Drinks                           74.006619  04-03-2022   \n",
            "              Buffet                           75.829346  13-02-2022   \n",
            "              Snack                            80.502929  14-02-2022   \n",
            "\n",
            "                            Time_Orderd Time_Order_picked Weather_conditions  \\\n",
            "City          Type_of_order                                                    \n",
            "Metropolitian Snack               21:55             22:10                Fog   \n",
            "              Meal                14:55             15:05             Stormy   \n",
            "              Drinks              17:30             17:40         Sandstorms   \n",
            "              Buffet              09:20             09:30         Sandstorms   \n",
            "              Snack               19:50             20:05                Fog   \n",
            "\n",
            "                            Road_traffic_density  Vehicle_condition  \\\n",
            "City          Type_of_order                                           \n",
            "Metropolitian Snack                          Jam                  2   \n",
            "              Meal                          High                  1   \n",
            "              Drinks                      Medium                  1   \n",
            "              Buffet                         Low                  0   \n",
            "              Snack                          Jam                  1   \n",
            "\n",
            "                            Type_of_vehicle  multiple_deliveries Festival  \\\n",
            "City          Type_of_order                                                 \n",
            "Metropolitian Snack              motorcycle                  3.0       No   \n",
            "              Meal               motorcycle                  1.0       No   \n",
            "              Drinks                scooter                  1.0       No   \n",
            "              Buffet             motorcycle                  0.0       No   \n",
            "              Snack                 scooter                  1.0       No   \n",
            "\n",
            "                             Time_taken (min)  Order_Year  \n",
            "City          Type_of_order                                \n",
            "Metropolitian Snack                        46        2022  \n",
            "              Meal                         23        2022  \n",
            "              Drinks                       21        2022  \n",
            "              Buffet                       20        2022  \n",
            "              Snack                        41        2022  \n",
            "\n",
            "Accessing rows for ('Urban', 'Snack'):\n",
            "                          ID Delivery_person_ID  Delivery_person_Age  \\\n",
            "City  Type_of_order                                                   \n",
            "Urban Snack          0x3231      JAPRES16DEL03                 27.0   \n",
            "      Snack          0x2876   RANCHIRES02DEL01                 32.0   \n",
            "      Snack          0xb3a0     PUNERES18DEL01                 20.0   \n",
            "      Snack          0x4bda      HYDRES17DEL02                 35.0   \n",
            "      Snack          0xc644      KOLRES16DEL02                 37.0   \n",
            "\n",
            "                     Delivery_person_Ratings  Restaurant_latitude  \\\n",
            "City  Type_of_order                                                 \n",
            "Urban Snack                              5.0            26.849596   \n",
            "      Snack                              3.5             0.000000   \n",
            "      Snack                              4.7            18.593481   \n",
            "      Snack                              5.0            17.451976   \n",
            "      Snack                              4.9            22.539129   \n",
            "\n",
            "                     Restaurant_longitude  Delivery_location_latitude  \\\n",
            "City  Type_of_order                                                     \n",
            "Urban Snack                     75.800512                   26.879596   \n",
            "      Snack                      0.000000                    0.110000   \n",
            "      Snack                     73.785901                   18.633481   \n",
            "      Snack                     78.385883                   17.471976   \n",
            "      Snack                     88.365507                   22.559129   \n",
            "\n",
            "                     Delivery_location_longitude  Order_Date Time_Orderd  \\\n",
            "City  Type_of_order                                                        \n",
            "Urban Snack                            75.830512  05-04-2022       20:35   \n",
            "      Snack                             0.110000  08-03-2022       21:35   \n",
            "      Snack                            73.825901  03-04-2022       14:15   \n",
            "      Snack                            78.405883  01-04-2022       09:45   \n",
            "      Snack                            88.385507  13-02-2022       10:55   \n",
            "\n",
            "                    Time_Order_picked Weather_conditions Road_traffic_density  \\\n",
            "City  Type_of_order                                                             \n",
            "Urban Snack                     20:40             Stormy                  Jam   \n",
            "      Snack                     21:45             Stormy                  Jam   \n",
            "      Snack                     14:25              Windy                 High   \n",
            "      Snack                     09:55              Sunny                  Low   \n",
            "      Snack               0.458333333                Fog                  Low   \n",
            "\n",
            "                     Vehicle_condition Type_of_vehicle  multiple_deliveries  \\\n",
            "City  Type_of_order                                                           \n",
            "Urban Snack                          0      motorcycle                  0.0   \n",
            "      Snack                          1         scooter                  0.0   \n",
            "      Snack                          1         scooter                  0.0   \n",
            "      Snack                          2         scooter                  1.0   \n",
            "      Snack                          1         scooter                  1.0   \n",
            "\n",
            "                    Festival  Time_taken (min)  Order_Year  \n",
            "City  Type_of_order                                         \n",
            "Urban Snack               No                18        2022  \n",
            "      Snack               No                35        2022  \n",
            "      Snack               No                10        2022  \n",
            "      Snack               No                11        2022  \n",
            "      Snack               No                16        2022  \n",
            "\n",
            "Reset index:\n",
            "             City Type_of_order      ID Delivery_person_ID  \\\n",
            "0  Metropolitian         Snack  0xcdcd      DEHRES17DEL01   \n",
            "1  Metropolitian          Meal  0xd987      KOCRES16DEL01   \n",
            "2  Metropolitian        Drinks  0x2784     PUNERES13DEL03   \n",
            "3  Metropolitian        Buffet  0xc8b6     LUDHRES15DEL02   \n",
            "4  Metropolitian         Snack  0xdb64      KNPRES14DEL02   \n",
            "\n",
            "   Delivery_person_Age  Delivery_person_Ratings  Restaurant_latitude  \\\n",
            "0                 36.0                      4.2            30.327968   \n",
            "1                 21.0                      4.7            10.003064   \n",
            "2                 23.0                      4.7            18.562450   \n",
            "3                 34.0                      4.3            30.899584   \n",
            "4                 24.0                      4.7            26.463504   \n",
            "\n",
            "   Restaurant_longitude  Delivery_location_latitude  \\\n",
            "0             78.046106                   30.397968   \n",
            "1             76.307589                   10.043064   \n",
            "2             73.916619                   18.652450   \n",
            "3             75.809346                   30.919584   \n",
            "4             80.372929                   26.593504   \n",
            "\n",
            "   Delivery_location_longitude  ... Time_Orderd Time_Order_picked  \\\n",
            "0                    78.116106  ...       21:55             22:10   \n",
            "1                    76.347589  ...       14:55             15:05   \n",
            "2                    74.006619  ...       17:30             17:40   \n",
            "3                    75.829346  ...       09:20             09:30   \n",
            "4                    80.502929  ...       19:50             20:05   \n",
            "\n",
            "  Weather_conditions Road_traffic_density Vehicle_condition  Type_of_vehicle  \\\n",
            "0                Fog                  Jam                 2       motorcycle   \n",
            "1             Stormy                 High                 1       motorcycle   \n",
            "2         Sandstorms               Medium                 1          scooter   \n",
            "3         Sandstorms                  Low                 0       motorcycle   \n",
            "4                Fog                  Jam                 1          scooter   \n",
            "\n",
            "  multiple_deliveries  Festival Time_taken (min)  Order_Year  \n",
            "0                 3.0        No               46        2022  \n",
            "1                 1.0        No               23        2022  \n",
            "2                 1.0        No               21        2022  \n",
            "3                 0.0        No               20        2022  \n",
            "4                 1.0        No               41        2022  \n",
            "\n",
            "[5 rows x 21 columns]\n",
            "\n",
            "Custom MultiIndex DataFrame:\n",
            "                        Ratings\n",
            "City       Order_Type         \n",
            "Urban      Snack           4.6\n",
            "           Meal            4.2\n",
            "Semi-Urban Buffet          3.8\n",
            "\n",
            "Swapped index levels:\n",
            "                                  ID Delivery_person_ID  Delivery_person_Age  \\\n",
            "Type_of_order City                                                            \n",
            "Snack         Metropolitian  0xcdcd      DEHRES17DEL01                 36.0   \n",
            "Meal          Metropolitian  0xd987      KOCRES16DEL01                 21.0   \n",
            "Drinks        Metropolitian  0x2784     PUNERES13DEL03                 23.0   \n",
            "Buffet        Metropolitian  0xc8b6     LUDHRES15DEL02                 34.0   \n",
            "Snack         Metropolitian  0xdb64      KNPRES14DEL02                 24.0   \n",
            "\n",
            "                             Delivery_person_Ratings  Restaurant_latitude  \\\n",
            "Type_of_order City                                                          \n",
            "Snack         Metropolitian                      4.2            30.327968   \n",
            "Meal          Metropolitian                      4.7            10.003064   \n",
            "Drinks        Metropolitian                      4.7            18.562450   \n",
            "Buffet        Metropolitian                      4.3            30.899584   \n",
            "Snack         Metropolitian                      4.7            26.463504   \n",
            "\n",
            "                             Restaurant_longitude  Delivery_location_latitude  \\\n",
            "Type_of_order City                                                              \n",
            "Snack         Metropolitian             78.046106                   30.397968   \n",
            "Meal          Metropolitian             76.307589                   10.043064   \n",
            "Drinks        Metropolitian             73.916619                   18.652450   \n",
            "Buffet        Metropolitian             75.809346                   30.919584   \n",
            "Snack         Metropolitian             80.372929                   26.593504   \n",
            "\n",
            "                             Delivery_location_longitude  Order_Date  \\\n",
            "Type_of_order City                                                     \n",
            "Snack         Metropolitian                    78.116106  12-02-2022   \n",
            "Meal          Metropolitian                    76.347589  13-02-2022   \n",
            "Drinks        Metropolitian                    74.006619  04-03-2022   \n",
            "Buffet        Metropolitian                    75.829346  13-02-2022   \n",
            "Snack         Metropolitian                    80.502929  14-02-2022   \n",
            "\n",
            "                            Time_Orderd Time_Order_picked Weather_conditions  \\\n",
            "Type_of_order City                                                             \n",
            "Snack         Metropolitian       21:55             22:10                Fog   \n",
            "Meal          Metropolitian       14:55             15:05             Stormy   \n",
            "Drinks        Metropolitian       17:30             17:40         Sandstorms   \n",
            "Buffet        Metropolitian       09:20             09:30         Sandstorms   \n",
            "Snack         Metropolitian       19:50             20:05                Fog   \n",
            "\n",
            "                            Road_traffic_density  Vehicle_condition  \\\n",
            "Type_of_order City                                                    \n",
            "Snack         Metropolitian                  Jam                  2   \n",
            "Meal          Metropolitian                 High                  1   \n",
            "Drinks        Metropolitian               Medium                  1   \n",
            "Buffet        Metropolitian                  Low                  0   \n",
            "Snack         Metropolitian                  Jam                  1   \n",
            "\n",
            "                            Type_of_vehicle  multiple_deliveries Festival  \\\n",
            "Type_of_order City                                                          \n",
            "Snack         Metropolitian      motorcycle                  3.0       No   \n",
            "Meal          Metropolitian      motorcycle                  1.0       No   \n",
            "Drinks        Metropolitian         scooter                  1.0       No   \n",
            "Buffet        Metropolitian      motorcycle                  0.0       No   \n",
            "Snack         Metropolitian         scooter                  1.0       No   \n",
            "\n",
            "                             Time_taken (min)  Order_Year  \n",
            "Type_of_order City                                         \n",
            "Snack         Metropolitian                46        2022  \n",
            "Meal          Metropolitian                23        2022  \n",
            "Drinks        Metropolitian                21        2022  \n",
            "Buffet        Metropolitian                20        2022  \n",
            "Snack         Metropolitian                41        2022  \n",
            "\n",
            "Sorted MultiIndex DataFrame:\n",
            "                                  ID Delivery_person_ID  Delivery_person_Age  \\\n",
            "City          Type_of_order                                                   \n",
            "Metropolitian Buffet         0xc8b6     LUDHRES15DEL02                 34.0   \n",
            "              Buffet         0x3af3      MUMRES15DEL03                 29.0   \n",
            "              Buffet         0x539b      MUMRES02DEL01                 25.0   \n",
            "              Buffet         0x2288     BANGRES09DEL03                 32.0   \n",
            "              Buffet         0x9d26     BANGRES17DEL02                 26.0   \n",
            "\n",
            "                             Delivery_person_Ratings  Restaurant_latitude  \\\n",
            "City          Type_of_order                                                 \n",
            "Metropolitian Buffet                             4.3            30.899584   \n",
            "              Buffet                             4.5            19.176269   \n",
            "              Buffet                             4.0            19.221315   \n",
            "              Buffet                             4.0            12.934179   \n",
            "              Buffet                             4.9            12.972532   \n",
            "\n",
            "                             Restaurant_longitude  Delivery_location_latitude  \\\n",
            "City          Type_of_order                                                     \n",
            "Metropolitian Buffet                    75.809346                   30.919584   \n",
            "              Buffet                    72.836721                   19.266269   \n",
            "              Buffet                    72.862381                   19.261315   \n",
            "              Buffet                    77.615797                   13.024179   \n",
            "              Buffet                    77.608179                   12.992532   \n",
            "\n",
            "                             Delivery_location_longitude  Order_Date  \\\n",
            "City          Type_of_order                                            \n",
            "Metropolitian Buffet                           75.829346  13-02-2022   \n",
            "              Buffet                           72.926721  02-04-2022   \n",
            "              Buffet                           72.902381  26-03-2022   \n",
            "              Buffet                           77.705797  16-03-2022   \n",
            "              Buffet                           77.628179  28-03-2022   \n",
            "\n",
            "                            Time_Orderd Time_Order_picked Weather_conditions  \\\n",
            "City          Type_of_order                                                    \n",
            "Metropolitian Buffet              09:20             09:30         Sandstorms   \n",
            "              Buffet              20:25             20:35         Sandstorms   \n",
            "              Buffet              12:25             12:30             Cloudy   \n",
            "              Buffet              21:20             21:35              Windy   \n",
            "              Buffet              08:40             08:55             Stormy   \n",
            "\n",
            "                            Road_traffic_density  Vehicle_condition  \\\n",
            "City          Type_of_order                                           \n",
            "Metropolitian Buffet                         Low                  0   \n",
            "              Buffet                         Jam                  2   \n",
            "              Buffet                        High                  1   \n",
            "              Buffet                         Jam                  0   \n",
            "              Buffet                         Low                  2   \n",
            "\n",
            "                              Type_of_vehicle  multiple_deliveries Festival  \\\n",
            "City          Type_of_order                                                   \n",
            "Metropolitian Buffet               motorcycle                  0.0       No   \n",
            "              Buffet         electric_scooter                  1.0       No   \n",
            "              Buffet               motorcycle                  1.0       No   \n",
            "              Buffet               motorcycle                  1.0       No   \n",
            "              Buffet                  scooter                  0.0       No   \n",
            "\n",
            "                             Time_taken (min)  Order_Year  \n",
            "City          Type_of_order                                \n",
            "Metropolitian Buffet                       20        2022  \n",
            "              Buffet                       20        2022  \n",
            "              Buffet                       34        2022  \n",
            "              Buffet                       47        2022  \n",
            "              Buffet                       11        2022  \n"
          ]
        },
        {
          "output_type": "stream",
          "name": "stderr",
          "text": [
            "<ipython-input-103-542dc60fbd23>:6: PerformanceWarning: indexing past lexsort depth may impact performance.\n",
            "  print(\"\\nAccessing rows for ('Urban', 'Snack'):\\n\", df_multi.loc[('Urban', 'Snack')].head())\n"
          ]
        }
      ]
    },
    {
      "cell_type": "markdown",
      "source": [
        "### **Pivot Tables**"
      ],
      "metadata": {
        "id": "t7bjR1qEK3E1"
      }
    },
    {
      "cell_type": "code",
      "source": [
        "pivot1 = pd.pivot_table(df, index='City', values='Time_taken (min)', aggfunc='mean')\n",
        "print(\"Pivot Table 1: Average Time Taken by City\\n\", pivot1)\n",
        "\n",
        "# Compare with groupby\n",
        "group1 = df.groupby('City')['Time_taken (min)'].mean()\n",
        "print(\"\\nGroupBy Result:\\n\", group1)\n"
      ],
      "metadata": {
        "colab": {
          "base_uri": "https://localhost:8080/"
        },
        "id": "abzwDDp4LB26",
        "outputId": "857a0814-adb1-4765-9935-e5bbbce7af51"
      },
      "execution_count": null,
      "outputs": [
        {
          "output_type": "stream",
          "name": "stdout",
          "text": [
            "Pivot Table 1: Average Time Taken by City\n",
            "                Time_taken (min)\n",
            "City                           \n",
            "Metropolitian         27.314460\n",
            "Semi-Urban            49.731707\n",
            "Urban                 22.983322\n",
            "\n",
            "GroupBy Result:\n",
            " City\n",
            "Metropolitian    27.314460\n",
            "Semi-Urban       49.731707\n",
            "Urban            22.983322\n",
            "Name: Time_taken (min), dtype: float64\n"
          ]
        }
      ]
    },
    {
      "cell_type": "code",
      "source": [
        "pivot2 = pd.pivot_table(df, index='City', columns='Type_of_order', values='ID', aggfunc='count')\n",
        "print(\"\\nPivot Table 2: Order Count by City and Type of Order\\n\", pivot2)\n",
        "\n",
        "# Compare with groupby\n",
        "group2 = df.groupby(['City', 'Type_of_order'])['ID'].count().unstack()\n",
        "print(\"\\nGroupBy Result:\\n\", group2)\n"
      ],
      "metadata": {
        "colab": {
          "base_uri": "https://localhost:8080/"
        },
        "id": "T_1eD6wiLEwN",
        "outputId": "a8126158-aee8-4e1e-88e9-fe7399392d60"
      },
      "execution_count": null,
      "outputs": [
        {
          "output_type": "stream",
          "name": "stdout",
          "text": [
            "\n",
            "Pivot Table 2: Order Count by City and Type of Order\n",
            " Type_of_order  Buffet  Drinks  Meal  Snack\n",
            "City                                      \n",
            "Metropolitian    8425    8435  8662   8565\n",
            "Semi-Urban         42      34    34     54\n",
            "Urban            2507    2566  2485   2575\n",
            "\n",
            "GroupBy Result:\n",
            " Type_of_order  Buffet  Drinks  Meal  Snack\n",
            "City                                      \n",
            "Metropolitian    8425    8435  8662   8565\n",
            "Semi-Urban         42      34    34     54\n",
            "Urban            2507    2566  2485   2575\n"
          ]
        }
      ]
    },
    {
      "cell_type": "markdown",
      "source": [
        "**Operatiosn on Matplotlib**"
      ],
      "metadata": {
        "id": "DUJvawFBLNY3"
      }
    },
    {
      "cell_type": "code",
      "source": [
        "import matplotlib.pyplot as plt\n"
      ],
      "metadata": {
        "id": "5tuTK4-qLQrv"
      },
      "execution_count": null,
      "outputs": []
    },
    {
      "cell_type": "code",
      "source": [
        "city_counts = df['City'].value_counts()\n",
        "\n",
        "plt.figure(figsize=(5, 5))\n",
        "plt.pie(city_counts, labels=city_counts.index, autopct='%1.1f%%', startangle=140)\n",
        "plt.title('City-wise Order Distribution')\n",
        "plt.axis('equal')\n",
        "plt.show()\n"
      ],
      "metadata": {
        "colab": {
          "base_uri": "https://localhost:8080/",
          "height": 450
        },
        "id": "n_SC9Tj6LZpy",
        "outputId": "03f6a7cb-f2c6-4c0a-b507-cf44e8a324a3"
      },
      "execution_count": null,
      "outputs": [
        {
          "output_type": "display_data",
          "data": {
            "text/plain": [
              "<Figure size 500x500 with 1 Axes>"
            ],
            "image/png": "[encoded data removed]"
          },
          "metadata": {}
        }
      ]
    },
    {
      "cell_type": "code",
      "source": [
        "df['Order_Date'] = pd.to_datetime(df['Order_Date'], dayfirst=True)\n",
        "daily_orders = df.groupby('Order_Date').size()\n",
        "\n",
        "plt.figure(figsize=(10, 4))\n",
        "daily_orders.plot(kind='line', marker='o', linestyle='-')\n",
        "plt.title('Orders Over Time')\n",
        "plt.xlabel('Date')\n",
        "plt.ylabel('Number of Orders')\n",
        "plt.grid(True)\n",
        "plt.tight_layout()\n",
        "plt.show()\n"
      ],
      "metadata": {
        "colab": {
          "base_uri": "https://localhost:8080/",
          "height": 406
        },
        "id": "PW7DAvQvLb7C",
        "outputId": "af78c3ea-10da-4b14-bed8-a2acbf5d6abf"
      },
      "execution_count": null,
      "outputs": [
        {
          "output_type": "display_data",
          "data": {
            "text/plain": [
              "<Figure size 1000x400 with 1 Axes>"
            ],
            "image/png": "[encoded data removed]"
          },
          "metadata": {}
        }
      ]
    },
    {
      "cell_type": "code",
      "source": [
        "city_counts = df['City'].value_counts()\n",
        "\n",
        "plt.bar(city_counts.index, city_counts.values)\n",
        "plt.title('Orders by City')\n",
        "plt.xlabel('City')\n",
        "plt.ylabel('Count')\n",
        "plt.show()\n"
      ],
      "metadata": {
        "colab": {
          "base_uri": "https://localhost:8080/",
          "height": 472
        },
        "id": "VeKESGUaL3Ko",
        "outputId": "f1516da1-4362-4117-d4fc-719f3d4492aa"
      },
      "execution_count": null,
      "outputs": [
        {
          "output_type": "display_data",
          "data": {
            "text/plain": [
              "<Figure size 640x480 with 1 Axes>"
            ],
            "image/png": "[encoded data removed]"
          },
          "metadata": {}
        }
      ]
    },
    {
      "cell_type": "code",
      "source": [
        "order_types = df['Type_of_order'].value_counts()\n",
        "\n",
        "plt.figure(figsize=(6, 6))\n",
        "plt.pie(order_types, labels=order_types.index, autopct='%1.1f%%', startangle=140, colors=['gold', 'lightcoral', 'lightskyblue', 'lightgreen'])\n",
        "plt.title('Order Type Distribution')\n",
        "plt.axis('equal')\n",
        "plt.show()\n"
      ],
      "metadata": {
        "colab": {
          "base_uri": "https://localhost:8080/",
          "height": 528
        },
        "id": "7Agsi2ukMBqC",
        "outputId": "3329d139-498b-44c7-cd51-416745282681"
      },
      "execution_count": null,
      "outputs": [
        {
          "output_type": "display_data",
          "data": {
            "text/plain": [
              "<Figure size 600x600 with 1 Axes>"
            ],
            "image/png": "[encoded data removed]"
          },
          "metadata": {}
        }
      ]
    },
    {
      "cell_type": "code",
      "source": [
        "import matplotlib.pyplot as plt\n",
        "import pandas as pd\n",
        "\n",
        "df['Order_Date'] = pd.to_datetime(df['Order_Date'], dayfirst=True)\n",
        "daily_avg = df.groupby('Order_Date')['Time_taken (min)'].mean()\n",
        "\n",
        "plt.figure(figsize=(10, 5))\n",
        "plt.plot(daily_avg.index, daily_avg.values, color='green', linestyle='--', marker='o')\n",
        "plt.title('Average Delivery Time by Date')\n",
        "plt.xlabel('Date')\n",
        "plt.ylabel('Time Taken (min)')\n",
        "plt.grid(True)\n",
        "plt.tight_layout()\n",
        "plt.show()\n"
      ],
      "metadata": {
        "colab": {
          "base_uri": "https://localhost:8080/",
          "height": 507
        },
        "id": "Sze-jXeNMJ26",
        "outputId": "f523511e-1a16-4c39-efab-a730097b4d6f"
      },
      "execution_count": null,
      "outputs": [
        {
          "output_type": "display_data",
          "data": {
            "text/plain": [
              "<Figure size 1000x500 with 1 Axes>"
            ],
            "image/png": "[encoded data removed]"
          },
          "metadata": {}
        }
      ]
    }
  ]
}